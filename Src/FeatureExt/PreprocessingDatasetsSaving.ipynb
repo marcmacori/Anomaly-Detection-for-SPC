{
 "cells": [
  {
   "cell_type": "code",
   "execution_count": null,
   "metadata": {},
   "outputs": [],
   "source": [
    "import numpy as np\n",
    "import pandas as pd \n",
    "from sklearn.metrics import (confusion_matrix, precision_recall_curve, average_precision_score,\n",
    "                             precision_score,recall_score, classification_report, f1_score)\n",
    "import joblib\n",
    "import os\n",
    "os.chdir(r'C:/Users/Marc/Desktop/TFG/R Files/Anomaly Detection for SPC')\n",
    "from Src.FeatureExt.ML_AD_Preprocessing import *\n",
    "from sklearn.preprocessing import StandardScaler\n",
    "from plotly import graph_objects as go\n",
    "from plotly.subplots import make_subplots\n"
   ]
  },
  {
   "cell_type": "code",
   "execution_count": null,
   "metadata": {},
   "outputs": [],
   "source": [
    "def windows(data):\n",
    "    data = np.array(data)\n",
    "    a = []\n",
    "    for i in range(len(data)):\n",
    "        v = data[i, 0:20]\n",
    "        a.append(v)\n",
    "    return(np.array(a))"
   ]
  },
  {
   "cell_type": "code",
   "execution_count": null,
   "metadata": {},
   "outputs": [],
   "source": [
    "\n",
    "#import data\n",
    "TS1 = pd.read_csv(\"Data/TimeSeries1.csv\", index_col = 0)\n",
    "TS1_Class = pd.read_csv(\"Data/TimeSeries1_Classification.csv\", index_col = 0)\n",
    "TS1_Class = TS1_Class.iloc[1280:1600, 19:60]\n",
    "TS1_Class = np.array(TS1_Class).reshape(TS1_Class.size)\n",
    "\n",
    "X_train = stdvector(TS1)\n",
    "X_wind = windows(TS1)\n",
    "X_wind_stand=windows(X_train)\n",
    "X_test = sw_dataset_3(X_train, 20)\n",
    "X_test = np.transpose(X_test)\n",
    "Df3 = pd.DataFrame(X_test,\\\n",
    "     columns = [\"last_value\", \"mean20\", \"sigma20\",\"mean5\", \"sigma5\", \"find_if\", \"kurtosis\",\n",
    "     \"dir_change\", 'wavg', 'slope', 'meancross', 'rdist', 'brange'])\n",
    "\n",
    "Df1= pd.DataFrame(X_wind)\n",
    "Df2= pd.DataFrame(X_wind_stand)\n",
    "Df4= pd.DataFrame(TS1_Class)\n",
    "\n",
    "Df1.to_csv('Data\\WindowsNonStandard.csv')\n",
    "Df2.to_csv('Data\\WidndowsStandard.csv')\n",
    "Df3.to_csv('Data\\Features.csv')\n",
    "Df4.to_csv('Data\\Label.csv')"
   ]
  }
 ],
 "metadata": {
  "interpreter": {
   "hash": "155419e57043e3c6c91350c5428c6cc33fefa50a0d623da8550d7adba7f4f47b"
  },
  "kernelspec": {
   "display_name": "Python 3.9.12 ('base')",
   "language": "python",
   "name": "python3"
  },
  "language_info": {
   "codemirror_mode": {
    "name": "ipython",
    "version": 3
   },
   "file_extension": ".py",
   "mimetype": "text/x-python",
   "name": "python",
   "nbconvert_exporter": "python",
   "pygments_lexer": "ipython3",
   "version": "3.9.12"
  },
  "orig_nbformat": 4
 },
 "nbformat": 4,
 "nbformat_minor": 2
}
