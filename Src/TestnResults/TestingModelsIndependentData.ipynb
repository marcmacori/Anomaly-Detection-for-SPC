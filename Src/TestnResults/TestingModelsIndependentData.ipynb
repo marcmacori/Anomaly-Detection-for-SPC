{
 "cells": [
  {
   "cell_type": "code",
   "execution_count": null,
   "metadata": {},
   "outputs": [],
   "source": [
    "import numpy as np\n",
    "import pandas as pd \n",
    "from sklearn.metrics import (confusion_matrix, precision_recall_curve, auc,\n",
    "                             roc_curve, recall_score, classification_report, f1_score,\n",
    "                             precision_recall_fscore_support, ConfusionMatrixDisplay)\n",
    "import joblib\n",
    "import os\n",
    "os.chdir('C:/Users/Marc/Desktop/TFG/R Files/Anomaly Detection for SPC')\n",
    "from Src.FeatureExt.ML_AD_Preprocessing import *\n",
    "from sklearn.preprocessing import StandardScaler\n",
    "\n",
    "#import data and ML Modelss\n",
    "TS = pd.read_csv(\"Data/TimeSeries2.csv\", index_col = 0)\n",
    "TS_Class = TS.iloc[:,5]\n",
    "TS=TS.iloc[:,0]\n",
    "\n",
    "TS.head()"
   ]
  },
  {
   "cell_type": "code",
   "execution_count": null,
   "metadata": {},
   "outputs": [],
   "source": [
    "TSstd=np.array(TS.iloc[0:2000]).reshape(-1,1)\n",
    "TS=np.array(TS).reshape(-1,1)\n",
    "scaler = StandardScaler()\n",
    "scaler = scaler.fit(TS)\n",
    "X_train = scaler.transform(TS)\n",
    "\n",
    "X_train[0:5]"
   ]
  },
  {
   "cell_type": "code",
   "execution_count": null,
   "metadata": {},
   "outputs": [],
   "source": [
    "#Creating sliding windows for each TS and get features\n",
    "X_test1 = np.transpose(sw_dataset_1(np.transpose(X_train), 20))\n",
    "scaler = StandardScaler()\n",
    "scaler = scaler.fit(X_test1)\n",
    "X_test1 = scaler.transform(X_test1)\n",
    "X_test1 = pd.DataFrame(X_test1, columns = [\"mean20\", \"sigma20\"])\n",
    "\n",
    "X_test2 = np.transpose(sw_dataset_2(np.transpose(X_train), 20))\n",
    "scaler = StandardScaler()\n",
    "scaler = scaler.fit(X_test2)\n",
    "X_test2 = scaler.transform(X_test2)\n",
    "X_test2 = pd.DataFrame(X_test2,\\\n",
    "     columns = [\"last_value\", \"mean20\", \"sigma20\",\"mean5\", \"sigma5\", \"find_if\", \"kurtosis\"])\n",
    "\n",
    "X_test3 = np.transpose(sw_dataset_3(np.transpose(X_train), 20))\n",
    "scaler = StandardScaler()\n",
    "scaler = scaler.fit(X_test3)\n",
    "X_test3 = scaler.transform(X_test3)\n",
    "X_test3 = pd.DataFrame(X_test3,\\\n",
    "     columns = [\"last_value\", \"mean20\", \"sigma20\",\"mean5\", \"sigma5\", \"find_if\", \"kurtosis\",\\\n",
    "           \"dir_change\"])\n",
    "\n",
    "iforest_1 = joblib.load('ML Models/ML_iforest_1.sav')\n",
    "iforest_2 = joblib.load('ML Models/ML_iforest_2.sav')\n",
    "iforest_3 = joblib.load('ML Models/ML_iforest_3.sav')\n",
    "svm_1 = joblib.load('ML Models/ML_svm_1.sav')\n",
    "svm_2 = joblib.load('ML Models/ML_svm_2.sav')\n",
    "svm_3 = joblib.load('ML Models/ML_svm_3.sav')"
   ]
  },
  {
   "cell_type": "code",
   "execution_count": null,
   "metadata": {},
   "outputs": [],
   "source": [
    "#predict from ML Modelss\n",
    "#Predict iForest\n",
    "predictions_forest1 = iforest_1.predict(np.array(X_test1))\n",
    "predictions_forest1 = np.array((predictions_forest1 == -1)*1)\n",
    "\n",
    "predictions_forest2 = iforest_2.predict(np.array(X_test2))\n",
    "predictions_forest2 = np.array((predictions_forest2 == -1)*1)\n",
    "\n",
    "predictions_forest3 = iforest_3.predict(np.array(X_test3))\n",
    "predictions_forest3 = np.array((predictions_forest3 == -1)*1)\n",
    "\n",
    "#Predict SVM\n",
    "predictions_SVM1 = svm_1.predict(np.array(X_test1))\n",
    "predictions_SVM2 = svm_2.predict(np.array(X_test2))\n",
    "predictions_SVM3 = svm_3.predict(np.array(X_test3))\n"
   ]
  },
  {
   "cell_type": "code",
   "execution_count": null,
   "metadata": {},
   "outputs": [],
   "source": [
    "TS_Class=TS_Class[20:]\n",
    "suma=np.sum(TS_Class)\n",
    "#Confusion Matrices Global\n",
    "cm_forest1 = confusion_matrix(TS_Class, predictions_forest1)\n",
    "cm_forest2 = confusion_matrix(TS_Class, predictions_forest2)\n",
    "cm_forest3 = confusion_matrix(TS_Class, predictions_forest3)\n",
    "cm_SVM1 = confusion_matrix(TS_Class, predictions_SVM1)\n",
    "cm_SVM2 = confusion_matrix(TS_Class, predictions_SVM2)\n",
    "cm_SVM3 = confusion_matrix(TS_Class, predictions_SVM3)"
   ]
  },
  {
   "cell_type": "code",
   "execution_count": null,
   "metadata": {},
   "outputs": [],
   "source": [
    "import plotly.express as px\n",
    "\n",
    "px.scatter(TS, x=np.arange(0,9980), y=TS[20:,0],\n",
    "           color=predictions_forest3.astype('str'), opacity = 0.2\n",
    "          )"
   ]
  }
 ],
 "metadata": {
  "interpreter": {
   "hash": "155419e57043e3c6c91350c5428c6cc33fefa50a0d623da8550d7adba7f4f47b"
  },
  "kernelspec": {
   "display_name": "Python 3.9.12 ('base')",
   "language": "python",
   "name": "python3"
  },
  "language_info": {
   "codemirror_mode": {
    "name": "ipython",
    "version": 3
   },
   "file_extension": ".py",
   "mimetype": "text/x-python",
   "name": "python",
   "nbconvert_exporter": "python",
   "pygments_lexer": "ipython3",
   "version": "3.9.12"
  },
  "orig_nbformat": 4
 },
 "nbformat": 4,
 "nbformat_minor": 2
}
