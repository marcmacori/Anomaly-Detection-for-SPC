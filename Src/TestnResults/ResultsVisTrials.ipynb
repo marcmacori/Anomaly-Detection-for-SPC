{
 "cells": [
  {
   "cell_type": "code",
   "execution_count": null,
   "metadata": {},
   "outputs": [],
   "source": [
    "import numpy as np\n",
    "import pandas as pd \n",
    "from sklearn.metrics import (confusion_matrix, precision_recall_curve, auc,\n",
    "                             roc_curve, recall_score, classification_report, f1_score,\n",
    "                             precision_recall_fscore_support, ConfusionMatrixDisplay)\n",
    "import joblib\n",
    "import os\n",
    "os.chdir(r'C:/Users/Marc/Desktop/TFG/R Files/Anomaly Detection for SPC')\n",
    "from Src.FeatureExt.ML_AD_Preprocessing import *\n",
    "from sklearn.preprocessing import StandardScaler\n",
    "\n",
    "#import data and ML Modelss\n",
    "TS1 = pd.read_csv(\"Data/TimeSeries1.csv\", index_col = 0)\n",
    "TS1_Class = pd.read_csv(\"Data/TimeSeries1_Classification.csv\", index_col = 0)\n",
    "TS1_Class = TS1_Class.iloc[1280:1600, 20:60]\n",
    "TS1_Class = np.array(TS1_Class).reshape(TS1_Class.size)\n",
    "\n",
    "TS1_WE_Class = pd.read_csv(\"Data/TimeSeries1_WE_Classification.csv\", index_col = 0)\n",
    "TS1_WE_Class = np.array(TS1_WE_Class.iloc[1280:1600, 20:60])\\\n",
    "    .reshape(TS1_WE_Class.iloc[1280:1600, 20:60].size)\n",
    "\n",
    "TS1_Nelson_Class = pd.read_csv(\"Data/TimeSeries1_Nelson_Classification.csv\", index_col = 0)\n",
    "TS1_Nelson_Class = np.array(TS1_Nelson_Class.iloc[1280:1600, 20:60])\\\n",
    "    .reshape(TS1_Nelson_Class.iloc[1280:1600, 20:60].size)\n",
    "\n",
    "iforest_1 = joblib.load('ML Models/ML_iforest_1.sav')\n",
    "iforest_2 = joblib.load('ML Models/ML_iforest_2.sav')\n",
    "iforest_3 = joblib.load('ML Models/ML_iforest_3.sav')\n",
    "svm_1 = joblib.load('ML Models/ML_svm_1.sav')\n",
    "svm_2 = joblib.load('ML Models/ML_svm_2.sav')\n",
    "svm_3 = joblib.load('ML Models/ML_svm_3.sav')\n",
    "\n",
    "#Pre-processing\n",
    "#Standardize data based on first 20 points of chart, which is supposed in control       \n",
    "#Standardize data based on first 20 points of chart, which is supposed in control       \n",
    "X_train = stdvector(TS1)  \n",
    "\n",
    "#Creating sliding windows for each TS and get features\n",
    "X_test1 = sw_dataset_1(X_train, 20)\n",
    "X_test1 = pd.DataFrame(np.transpose(X_test1))\n",
    "scaler = StandardScaler()\n",
    "scaler = scaler.fit(X_test1)\n",
    "X_test1 = scaler.transform(X_test1)\n",
    "X_test1 = pd.DataFrame(X_test1, columns = [\"mean20\", \"sigma20\"])\n",
    "\n",
    "X_test2 = sw_dataset_2(X_train, 20)\n",
    "X_test2 = pd.DataFrame(np.transpose(X_test2))\n",
    "scaler = StandardScaler()\n",
    "scaler = scaler.fit(X_test2)\n",
    "X_test2 = scaler.transform(X_test2)\n",
    "X_test2 = pd.DataFrame(X_test2,\\\n",
    "     columns = [\"last_value\", \"mean20\", \"sigma20\",\"mean5\", \"sigma5\", \"find_if\", \"kurtosis\"])\n",
    "\n",
    "X_test3 = sw_dataset_3(X_train, 20)\n",
    "X_test3 = np.transpose(X_test3)\n",
    "scaler = StandardScaler()\n",
    "scaler = scaler.fit(X_test3)\n",
    "X_test3 = scaler.transform(X_test3)\n",
    "X_test3 = pd.DataFrame(X_test3,\\\n",
    "     columns = [\"last_value\", \"mean20\", \"sigma20\",\"mean5\", \"sigma5\", \"find_if\", \"kurtosis\",\\\n",
    "           \"dir_change\"])\n",
    "\n",
    "#Split dataset for training\n",
    "split= int(4/5 * X_test1.shape[0])\n",
    "\n",
    "X_test1 = X_test1.iloc[split:X_test1.size, :]\n",
    "X_test2 = X_test2.iloc[split:X_test2.size, :]\n",
    "X_test3 = X_test3.iloc[split:X_test3.size, :]\n",
    "\n",
    "\n",
    "#predict from ML Modelss\n",
    "#Predict iForest\n",
    "predictions_forest1 = iforest_1.predict(np.array(X_test1))\n",
    "predictions_forest1 = np.array((predictions_forest1 == -1)*1)\n",
    "\n",
    "predictions_forest2 = iforest_2.predict(np.array(X_test2))\n",
    "predictions_forest2 = np.array((predictions_forest2 == -1)*1)\n",
    "\n",
    "predictions_forest3 = iforest_3.predict(np.array(X_test3))\n",
    "predictions_forest3 = np.array((predictions_forest3 == -1)*1)\n",
    "\n",
    "#Predict SVM\n",
    "predictions_SVM1 = svm_1.predict(np.array(X_test1))\n",
    "predictions_SVM2 = svm_2.predict(np.array(X_test2))\n",
    "predictions_SVM3 = svm_3.predict(np.array(X_test3))\n",
    "\n",
    "#Confusion Matrices Global\n",
    "cm_WE = confusion_matrix(TS1_Class, TS1_WE_Class)\n",
    "cm_Nelson = confusion_matrix(TS1_Class, TS1_Nelson_Class)\n",
    "cm_forest1 = confusion_matrix(TS1_Class, predictions_forest1)\n",
    "cm_forest2 = confusion_matrix(TS1_Class, predictions_forest2)\n",
    "cm_forest3 = confusion_matrix(TS1_Class, predictions_forest3)\n",
    "cm_SVM1 = confusion_matrix(TS1_Class, predictions_SVM1)\n",
    "cm_SVM2 = confusion_matrix(TS1_Class, predictions_SVM2)\n",
    "cm_SVM3 = confusion_matrix(TS1_Class, predictions_SVM3)\n",
    "\n",
    "#Confusion Matrices per error type\n",
    "TS1_Class_Normal = TS1_Class[0:1600]\n",
    "TS1_Class_Cyclic = TS1_Class[1600:3200]\n",
    "TS1_Class_Systematic = TS1_Class[3200:4800]\n",
    "TS1_Class_Stratified = TS1_Class[4800:6400]\n",
    "TS1_Class_ut = TS1_Class[6400:8000]\n",
    "TS1_Class_dt = TS1_Class[8000:9600]\n",
    "TS1_Class_us = TS1_Class[9600:11200]\n",
    "TS1_Class_ds = TS1_Class[11200:12800]\n",
    "\n",
    "TS1_WE_Class_Normal = TS1_WE_Class[0:1600]\n",
    "TS1_WE_Class_Cyclic = TS1_WE_Class[1600:3200]\n",
    "TS1_WE_Class_Systematic = TS1_WE_Class[3200:4800]\n",
    "TS1_WE_Class_Stratified = TS1_WE_Class[4800:6400]\n",
    "TS1_WE_Class_ut = TS1_WE_Class[6400:8000]\n",
    "TS1_WE_Class_dt = TS1_WE_Class[8000:9600]\n",
    "TS1_WE_Class_us = TS1_WE_Class[9600:11200]\n",
    "TS1_WE_Class_ds = TS1_WE_Class[11200:12800]\n",
    "\n",
    "TS1_Nelson_Class_Normal = TS1_Nelson_Class[0:1600]\n",
    "TS1_Nelson_Class_Cyclic = TS1_Nelson_Class[1600:3200]\n",
    "TS1_Nelson_Class_Systematic = TS1_Nelson_Class[3200:4800]\n",
    "TS1_Nelson_Class_Stratified = TS1_Nelson_Class[4800:6400]\n",
    "TS1_Nelson_Class_ut = TS1_Nelson_Class[6400:8000]\n",
    "TS1_Nelson_Class_dt = TS1_Nelson_Class[8000:9600]\n",
    "TS1_Nelson_Class_us = TS1_Nelson_Class[9600:11200]\n",
    "TS1_Nelson_Class_ds = TS1_Nelson_Class[11200:12800]\n",
    "\n",
    "predictions_forest1_Normal = predictions_forest1[0:1600]\n",
    "predictions_forest1_Cyclic = predictions_forest1[1600:3200]\n",
    "predictions_forest1_Systematic = predictions_forest1[3200:4800]\n",
    "predictions_forest1_Stratified = predictions_forest1[4800:6400]\n",
    "predictions_forest1_ut = predictions_forest1[6400:8000]\n",
    "predictions_forest1_dt = predictions_forest1[8000:9600]\n",
    "predictions_forest1_us = predictions_forest1[9600:11200]\n",
    "predictions_forest1_ds = predictions_forest1[11200:12800]\n",
    "\n",
    "predictions_forest2_Normal = predictions_forest2[0:1600]\n",
    "predictions_forest2_Cyclic = predictions_forest2[1600:3200]\n",
    "predictions_forest2_Systematic = predictions_forest2[3200:4800]\n",
    "predictions_forest2_Stratified = predictions_forest2[4800:6400]\n",
    "predictions_forest2_ut = predictions_forest2[6400:8000]\n",
    "predictions_forest2_dt = predictions_forest2[8000:9600]\n",
    "predictions_forest2_us = predictions_forest2[9600:11200]\n",
    "predictions_forest2_ds = predictions_forest2[11200:12800]\n",
    "\n",
    "predictions_forest3_Normal = predictions_forest3[0:1600]\n",
    "predictions_forest3_Cyclic = predictions_forest3[1600:3200]\n",
    "predictions_forest3_Systematic = predictions_forest3[3200:4800]\n",
    "predictions_forest3_Stratified = predictions_forest3[4800:6400]\n",
    "predictions_forest3_ut = predictions_forest3[6400:8000]\n",
    "predictions_forest3_dt = predictions_forest3[8000:9600]\n",
    "predictions_forest3_us = predictions_forest3[9600:11200]\n",
    "predictions_forest3_ds = predictions_forest3[11200:12800]\n",
    "\n",
    "predictions_SVM1_Normal = predictions_SVM1[0:1600]\n",
    "predictions_SVM1_Cyclic = predictions_SVM1[1600:3200]\n",
    "predictions_SVM1_Systematic = predictions_SVM1[3200:4800]\n",
    "predictions_SVM1_Stratified = predictions_SVM1[4800:6400]\n",
    "predictions_SVM1_ut = predictions_SVM1[6400:8000]\n",
    "predictions_SVM1_dt = predictions_SVM1[8000:9600]\n",
    "predictions_SVM1_us = predictions_SVM1[9600:11200]\n",
    "predictions_SVM1_ds = predictions_SVM1[11200:12800]\n",
    "\n",
    "predictions_SVM2_Normal = predictions_SVM2[0:1600]\n",
    "predictions_SVM2_Cyclic = predictions_SVM2[1600:3200]\n",
    "predictions_SVM2_Systematic = predictions_SVM2[3200:4800]\n",
    "predictions_SVM2_Stratified = predictions_SVM2[4800:6400]\n",
    "predictions_SVM2_ut = predictions_SVM2[6400:8000]\n",
    "predictions_SVM2_dt = predictions_SVM2[8000:9600]\n",
    "predictions_SVM2_us = predictions_SVM2[9600:11200]\n",
    "predictions_SVM2_ds = predictions_SVM2[11200:12800]\n",
    "\n",
    "predictions_SVM3_Normal = predictions_SVM3[0:1600]\n",
    "predictions_SVM3_Cyclic = predictions_SVM3[1600:3200]\n",
    "predictions_SVM3_Systematic = predictions_SVM3[3200:4800]\n",
    "predictions_SVM3_Stratified = predictions_SVM3[4800:6400]\n",
    "predictions_SVM3_ut = predictions_SVM3[6400:8000]\n",
    "predictions_SVM3_dt = predictions_SVM3[8000:9600]\n",
    "predictions_SVM3_us = predictions_SVM3[9600:11200]\n",
    "predictions_SVM3_ds = predictions_SVM3[11200:12800]\n",
    "\n",
    "cm_WE_normal = confusion_matrix(TS1_Class_Normal, TS1_WE_Class_Normal)\n",
    "cm_WE_Cyclic = confusion_matrix(TS1_Class_Cyclic, TS1_WE_Class_Cyclic)\n",
    "cm_WE_Systematic = confusion_matrix(TS1_Class_Systematic, TS1_WE_Class_Systematic)\n",
    "cm_WE_Stratified = confusion_matrix(TS1_Class_Stratified, TS1_WE_Class_Stratified)\n",
    "cm_WE_ut = confusion_matrix(TS1_Class_ut, TS1_WE_Class_ut)\n",
    "cm_WE_dt = confusion_matrix(TS1_Class_dt, TS1_WE_Class_dt)\n",
    "cm_WE_us = confusion_matrix(TS1_Class_us, TS1_WE_Class_us)\n",
    "cm_WE_ds = confusion_matrix(TS1_Class_ds, TS1_WE_Class_ds)\n",
    "\n",
    "cm_Nelson_normal = confusion_matrix(TS1_Class_Normal, TS1_Nelson_Class_Normal)\n",
    "cm_Nelson_Cyclic = confusion_matrix(TS1_Class_Cyclic, TS1_Nelson_Class_Cyclic)\n",
    "cm_Nelson_Systematic = confusion_matrix(TS1_Class_Systematic, TS1_Nelson_Class_Systematic)\n",
    "cm_Nelson_Stratified = confusion_matrix(TS1_Class_Stratified, TS1_Nelson_Class_Stratified)\n",
    "cm_Nelson_ut = confusion_matrix(TS1_Class_ut, TS1_Nelson_Class_ut)\n",
    "cm_Nelson_dt = confusion_matrix(TS1_Class_dt, TS1_Nelson_Class_dt)\n",
    "cm_Nelson_us = confusion_matrix(TS1_Class_us, TS1_Nelson_Class_us)\n",
    "cm_Nelson_ds = confusion_matrix(TS1_Class_ds, TS1_Nelson_Class_ds)\n",
    "\n",
    "cm_forest1_normal = confusion_matrix(TS1_Class_Normal, predictions_forest1_Normal)\n",
    "cm_forest1_Cyclic = confusion_matrix(TS1_Class_Cyclic, predictions_forest1_Cyclic)\n",
    "cm_forest1_Systematic = confusion_matrix(TS1_Class_Systematic, predictions_forest1_Systematic)\n",
    "cm_forest1_Stratified = confusion_matrix(TS1_Class_Stratified, predictions_forest1_Stratified)\n",
    "cm_forest1_ut = confusion_matrix(TS1_Class_ut, predictions_forest1_ut)\n",
    "cm_forest1_dt = confusion_matrix(TS1_Class_dt, predictions_forest1_dt)\n",
    "cm_forest1_us = confusion_matrix(TS1_Class_us, predictions_forest1_us)\n",
    "cm_forest1_ds = confusion_matrix(TS1_Class_ds, predictions_forest1_ds)\n",
    "\n",
    "cm_forest2_normal = confusion_matrix(TS1_Class_Normal, predictions_forest2_Normal)\n",
    "cm_forest2_Cyclic = confusion_matrix(TS1_Class_Cyclic, predictions_forest2_Cyclic)\n",
    "cm_forest2_Systematic = confusion_matrix(TS1_Class_Systematic, predictions_forest2_Systematic)\n",
    "cm_forest2_Stratified = confusion_matrix(TS1_Class_Stratified, predictions_forest2_Stratified)\n",
    "cm_forest2_ut = confusion_matrix(TS1_Class_ut, predictions_forest2_ut)\n",
    "cm_forest2_dt = confusion_matrix(TS1_Class_dt, predictions_forest2_dt)\n",
    "cm_forest2_us = confusion_matrix(TS1_Class_us, predictions_forest2_us)\n",
    "cm_forest2_ds = confusion_matrix(TS1_Class_ds, predictions_forest2_ds)\n",
    "\n",
    "cm_forest3_normal = confusion_matrix(TS1_Class_Normal, predictions_forest3_Normal)\n",
    "cm_forest3_Cyclic = confusion_matrix(TS1_Class_Cyclic, predictions_forest3_Cyclic)\n",
    "cm_forest3_Systematic = confusion_matrix(TS1_Class_Systematic, predictions_forest3_Systematic)\n",
    "cm_forest3_Stratified = confusion_matrix(TS1_Class_Stratified, predictions_forest3_Stratified)\n",
    "cm_forest3_ut = confusion_matrix(TS1_Class_ut, predictions_forest3_ut)\n",
    "cm_forest3_dt = confusion_matrix(TS1_Class_dt, predictions_forest3_dt)\n",
    "cm_forest3_us = confusion_matrix(TS1_Class_us, predictions_forest3_us)\n",
    "cm_forest3_ds = confusion_matrix(TS1_Class_ds, predictions_forest3_ds)\n",
    "\n",
    "cm_SVM1_normal = confusion_matrix(TS1_Class_Normal, predictions_SVM1_Normal)\n",
    "cm_SVM1_Cyclic = confusion_matrix(TS1_Class_Cyclic, predictions_SVM1_Cyclic)\n",
    "cm_SVM1_Systematic = confusion_matrix(TS1_Class_Systematic, predictions_SVM1_Systematic)\n",
    "cm_SVM1_Stratified = confusion_matrix(TS1_Class_Stratified, predictions_SVM1_Stratified)\n",
    "cm_SVM1_ut = confusion_matrix(TS1_Class_ut, predictions_SVM1_ut)\n",
    "cm_SVM1_dt = confusion_matrix(TS1_Class_dt, predictions_SVM1_dt)\n",
    "cm_SVM1_us = confusion_matrix(TS1_Class_us, predictions_SVM1_us)\n",
    "cm_SVM1_ds = confusion_matrix(TS1_Class_ds, predictions_SVM1_ds)\n",
    "\n",
    "cm_SVM2_normal = confusion_matrix(TS1_Class_Normal, predictions_SVM2_Normal)\n",
    "cm_SVM2_Cyclic = confusion_matrix(TS1_Class_Cyclic, predictions_SVM2_Cyclic)\n",
    "cm_SVM2_Systematic = confusion_matrix(TS1_Class_Systematic, predictions_SVM2_Systematic)\n",
    "cm_SVM2_Stratified = confusion_matrix(TS1_Class_Stratified, predictions_SVM2_Stratified)\n",
    "cm_SVM2_ut = confusion_matrix(TS1_Class_ut, predictions_SVM2_ut)\n",
    "cm_SVM2_dt = confusion_matrix(TS1_Class_dt, predictions_SVM2_dt)\n",
    "cm_SVM2_us = confusion_matrix(TS1_Class_us, predictions_SVM2_us)\n",
    "cm_SVM2_ds = confusion_matrix(TS1_Class_ds, predictions_SVM2_ds)\n",
    "\n",
    "cm_SVM3_normal = confusion_matrix(TS1_Class_Normal, predictions_SVM3_Normal)\n",
    "cm_SVM3_Cyclic = confusion_matrix(TS1_Class_Cyclic, predictions_SVM3_Cyclic)\n",
    "cm_SVM3_Systematic = confusion_matrix(TS1_Class_Systematic, predictions_SVM3_Systematic)\n",
    "cm_SVM3_Stratified = confusion_matrix(TS1_Class_Stratified, predictions_SVM3_Stratified)\n",
    "cm_SVM3_ut = confusion_matrix(TS1_Class_ut, predictions_SVM3_ut)\n",
    "cm_SVM3_dt = confusion_matrix(TS1_Class_dt, predictions_SVM3_dt)\n",
    "cm_SVM3_us = confusion_matrix(TS1_Class_us, predictions_SVM3_us)\n",
    "cm_SVM3_ds = confusion_matrix(TS1_Class_ds, predictions_SVM3_ds)\n",
    "\n",
    "#Classification Report Global\n",
    "cf_WE = classification_report(TS1_Class, TS1_WE_Class)\n",
    "cf_Nelson = classification_report(TS1_Class, TS1_Nelson_Class)\n",
    "cf_forest1 = classification_report(TS1_Class, predictions_forest1)\n",
    "cf_forest2 = classification_report(TS1_Class, predictions_forest2)\n",
    "cf_forest3 = classification_report(TS1_Class, predictions_forest3)\n",
    "cf_SVM1 = classification_report(TS1_Class, predictions_SVM1)\n",
    "cf_SVM2 = classification_report(TS1_Class, predictions_SVM2)\n",
    "cf_SVM3 = classification_report(TS1_Class, predictions_SVM3)\n",
    "\n",
    "#Classification Report per Error\n",
    "cr_WE_normal = classification_report(TS1_Class_Normal, TS1_WE_Class_Normal)\n",
    "cr_WE_Cyclic = classification_report(TS1_Class_Cyclic, TS1_WE_Class_Cyclic)\n",
    "cr_WE_Systematic = classification_report(TS1_Class_Systematic, TS1_WE_Class_Systematic)\n",
    "cr_WE_Stratified = classification_report(TS1_Class_Stratified, TS1_WE_Class_Stratified)\n",
    "cr_WE_ut = classification_report(TS1_Class_ut, TS1_WE_Class_ut)\n",
    "cr_WE_dt = classification_report(TS1_Class_dt, TS1_WE_Class_dt)\n",
    "cr_WE_us = classification_report(TS1_Class_us, TS1_WE_Class_us)\n",
    "cr_WE_ds = classification_report(TS1_Class_ds, TS1_WE_Class_ds)\n",
    "\n",
    "cr_Nelson_normal = classification_report(TS1_Class_Normal, TS1_Nelson_Class_Normal)\n",
    "cr_Nelson_Cyclic = classification_report(TS1_Class_Cyclic, TS1_Nelson_Class_Cyclic)\n",
    "cr_Nelson_Systematic = classification_report(TS1_Class_Systematic, TS1_Nelson_Class_Systematic)\n",
    "cr_Nelson_Stratified = classification_report(TS1_Class_Stratified, TS1_Nelson_Class_Stratified)\n",
    "cr_Nelson_ut = classification_report(TS1_Class_ut, TS1_Nelson_Class_ut)\n",
    "cr_Nelson_dt = classification_report(TS1_Class_dt, TS1_Nelson_Class_dt)\n",
    "cr_Nelson_us = classification_report(TS1_Class_us, TS1_Nelson_Class_us)\n",
    "cr_Nelson_ds = classification_report(TS1_Class_ds, TS1_Nelson_Class_ds)\n",
    "\n",
    "cr_forest1_normal = classification_report(TS1_Class_Normal, predictions_forest1_Normal)\n",
    "cr_forest1_Cyclic = classification_report(TS1_Class_Cyclic, predictions_forest1_Cyclic)\n",
    "cr_forest1_Systematic = classification_report(TS1_Class_Systematic, predictions_forest1_Systematic)\n",
    "cr_forest1_Stratified = classification_report(TS1_Class_Stratified, predictions_forest1_Stratified)\n",
    "cr_forest1_ut = classification_report(TS1_Class_ut, predictions_forest1_ut)\n",
    "cr_forest1_dt = classification_report(TS1_Class_dt, predictions_forest1_dt)\n",
    "cr_forest1_us = classification_report(TS1_Class_us, predictions_forest1_us)\n",
    "cr_forest1_ds = classification_report(TS1_Class_ds, predictions_forest1_ds)\n",
    "\n",
    "cr_forest2_normal = classification_report(TS1_Class_Normal, predictions_forest2_Normal)\n",
    "cr_forest2_Cyclic = classification_report(TS1_Class_Cyclic, predictions_forest2_Cyclic)\n",
    "cr_forest2_Systematic = classification_report(TS1_Class_Systematic, predictions_forest2_Systematic)\n",
    "cr_forest2_Stratified = classification_report(TS1_Class_Stratified, predictions_forest2_Stratified)\n",
    "cr_forest2_ut = classification_report(TS1_Class_ut, predictions_forest2_ut)\n",
    "cr_forest2_dt = classification_report(TS1_Class_dt, predictions_forest2_dt)\n",
    "cr_forest2_us = classification_report(TS1_Class_us, predictions_forest2_us)\n",
    "cr_forest2_ds = classification_report(TS1_Class_ds, predictions_forest2_ds)\n",
    "\n",
    "cr_forest3_normal = classification_report(TS1_Class_Normal, predictions_forest3_Normal)\n",
    "cr_forest3_Cyclic = classification_report(TS1_Class_Cyclic, predictions_forest3_Cyclic)\n",
    "cr_forest3_Systematic = classification_report(TS1_Class_Systematic, predictions_forest3_Systematic)\n",
    "cr_forest3_Stratified = classification_report(TS1_Class_Stratified, predictions_forest3_Stratified)\n",
    "cr_forest3_ut = classification_report(TS1_Class_ut, predictions_forest3_ut)\n",
    "cr_forest3_dt = classification_report(TS1_Class_dt, predictions_forest3_dt)\n",
    "cr_forest3_us = classification_report(TS1_Class_us, predictions_forest3_us)\n",
    "cr_forest3_ds = classification_report(TS1_Class_ds, predictions_forest3_ds)\n",
    "\n",
    "cr_SVM1_normal = classification_report(TS1_Class_Normal, predictions_SVM1_Normal)\n",
    "cr_SVM1_Cyclic = classification_report(TS1_Class_Cyclic, predictions_SVM1_Cyclic)\n",
    "cr_SVM1_Systematic = classification_report(TS1_Class_Systematic, predictions_SVM1_Systematic)\n",
    "cr_SVM1_Stratified = classification_report(TS1_Class_Stratified, predictions_SVM1_Stratified)\n",
    "cr_SVM1_ut = classification_report(TS1_Class_ut, predictions_SVM1_ut)\n",
    "cr_SVM1_dt = classification_report(TS1_Class_dt, predictions_SVM1_dt)\n",
    "cr_SVM1_us = classification_report(TS1_Class_us, predictions_SVM1_us)\n",
    "cr_SVM1_ds = classification_report(TS1_Class_ds, predictions_SVM1_ds)\n",
    "\n",
    "cr_SVM2_normal = classification_report(TS1_Class_Normal, predictions_SVM2_Normal)\n",
    "cr_SVM2_Cyclic = classification_report(TS1_Class_Cyclic, predictions_SVM2_Cyclic)\n",
    "cr_SVM2_Systematic = classification_report(TS1_Class_Systematic, predictions_SVM2_Systematic)\n",
    "cr_SVM2_Stratified = classification_report(TS1_Class_Stratified, predictions_SVM2_Stratified)\n",
    "cr_SVM2_ut = classification_report(TS1_Class_ut, predictions_SVM2_ut)\n",
    "cr_SVM2_dt = classification_report(TS1_Class_dt, predictions_SVM2_dt)\n",
    "cr_SVM2_us = classification_report(TS1_Class_us, predictions_SVM2_us)\n",
    "cr_SVM2_ds = classification_report(TS1_Class_ds, predictions_SVM2_ds)\n",
    "\n",
    "cr_SVM3_normal = classification_report(TS1_Class_Normal, predictions_SVM3_Normal)\n",
    "cr_SVM3_Cyclic = classification_report(TS1_Class_Cyclic, predictions_SVM3_Cyclic)\n",
    "cr_SVM3_Systematic = classification_report(TS1_Class_Systematic, predictions_SVM3_Systematic)\n",
    "cr_SVM3_Stratified = classification_report(TS1_Class_Stratified, predictions_SVM3_Stratified)\n",
    "cr_SVM3_ut = classification_report(TS1_Class_ut, predictions_SVM3_ut)\n",
    "cr_SVM3_dt = classification_report(TS1_Class_dt, predictions_SVM3_dt)\n",
    "cr_SVM3_us = classification_report(TS1_Class_us, predictions_SVM3_us)\n",
    "cr_SVM3_ds = classification_report(TS1_Class_ds, predictions_SVM3_ds)"
   ]
  },
  {
   "cell_type": "code",
   "execution_count": 15,
   "metadata": {},
   "outputs": [
    {
     "data": {
      "application/vnd.plotly.v1+json": {
       "config": {
        "plotlyServerURL": "https://plot.ly"
       },
       "data": [
        {
         "fill": "toself",
         "name": "Nelson",
         "r": [
          4447,
          1293,
          5869,
          1191,
          4447
         ],
         "theta": [
          "TP",
          "FP",
          "TN",
          "FN",
          "TP"
         ],
         "type": "scatterpolar"
        }
       ],
       "layout": {
        "polar": {
         "angularaxis": {
          "direction": "counterclockwise",
          "rotation": 45
         },
         "radialaxis": {
          "range": [
           0,
           7000
          ],
          "visible": true
         }
        },
        "showlegend": true,
        "template": {
         "data": {
          "bar": [
           {
            "error_x": {
             "color": "#2a3f5f"
            },
            "error_y": {
             "color": "#2a3f5f"
            },
            "marker": {
             "line": {
              "color": "#E5ECF6",
              "width": 0.5
             },
             "pattern": {
              "fillmode": "overlay",
              "size": 10,
              "solidity": 0.2
             }
            },
            "type": "bar"
           }
          ],
          "barpolar": [
           {
            "marker": {
             "line": {
              "color": "#E5ECF6",
              "width": 0.5
             },
             "pattern": {
              "fillmode": "overlay",
              "size": 10,
              "solidity": 0.2
             }
            },
            "type": "barpolar"
           }
          ],
          "carpet": [
           {
            "aaxis": {
             "endlinecolor": "#2a3f5f",
             "gridcolor": "white",
             "linecolor": "white",
             "minorgridcolor": "white",
             "startlinecolor": "#2a3f5f"
            },
            "baxis": {
             "endlinecolor": "#2a3f5f",
             "gridcolor": "white",
             "linecolor": "white",
             "minorgridcolor": "white",
             "startlinecolor": "#2a3f5f"
            },
            "type": "carpet"
           }
          ],
          "choropleth": [
           {
            "colorbar": {
             "outlinewidth": 0,
             "ticks": ""
            },
            "type": "choropleth"
           }
          ],
          "contour": [
           {
            "colorbar": {
             "outlinewidth": 0,
             "ticks": ""
            },
            "colorscale": [
             [
              0,
              "#0d0887"
             ],
             [
              0.1111111111111111,
              "#46039f"
             ],
             [
              0.2222222222222222,
              "#7201a8"
             ],
             [
              0.3333333333333333,
              "#9c179e"
             ],
             [
              0.4444444444444444,
              "#bd3786"
             ],
             [
              0.5555555555555556,
              "#d8576b"
             ],
             [
              0.6666666666666666,
              "#ed7953"
             ],
             [
              0.7777777777777778,
              "#fb9f3a"
             ],
             [
              0.8888888888888888,
              "#fdca26"
             ],
             [
              1,
              "#f0f921"
             ]
            ],
            "type": "contour"
           }
          ],
          "contourcarpet": [
           {
            "colorbar": {
             "outlinewidth": 0,
             "ticks": ""
            },
            "type": "contourcarpet"
           }
          ],
          "heatmap": [
           {
            "colorbar": {
             "outlinewidth": 0,
             "ticks": ""
            },
            "colorscale": [
             [
              0,
              "#0d0887"
             ],
             [
              0.1111111111111111,
              "#46039f"
             ],
             [
              0.2222222222222222,
              "#7201a8"
             ],
             [
              0.3333333333333333,
              "#9c179e"
             ],
             [
              0.4444444444444444,
              "#bd3786"
             ],
             [
              0.5555555555555556,
              "#d8576b"
             ],
             [
              0.6666666666666666,
              "#ed7953"
             ],
             [
              0.7777777777777778,
              "#fb9f3a"
             ],
             [
              0.8888888888888888,
              "#fdca26"
             ],
             [
              1,
              "#f0f921"
             ]
            ],
            "type": "heatmap"
           }
          ],
          "heatmapgl": [
           {
            "colorbar": {
             "outlinewidth": 0,
             "ticks": ""
            },
            "colorscale": [
             [
              0,
              "#0d0887"
             ],
             [
              0.1111111111111111,
              "#46039f"
             ],
             [
              0.2222222222222222,
              "#7201a8"
             ],
             [
              0.3333333333333333,
              "#9c179e"
             ],
             [
              0.4444444444444444,
              "#bd3786"
             ],
             [
              0.5555555555555556,
              "#d8576b"
             ],
             [
              0.6666666666666666,
              "#ed7953"
             ],
             [
              0.7777777777777778,
              "#fb9f3a"
             ],
             [
              0.8888888888888888,
              "#fdca26"
             ],
             [
              1,
              "#f0f921"
             ]
            ],
            "type": "heatmapgl"
           }
          ],
          "histogram": [
           {
            "marker": {
             "pattern": {
              "fillmode": "overlay",
              "size": 10,
              "solidity": 0.2
             }
            },
            "type": "histogram"
           }
          ],
          "histogram2d": [
           {
            "colorbar": {
             "outlinewidth": 0,
             "ticks": ""
            },
            "colorscale": [
             [
              0,
              "#0d0887"
             ],
             [
              0.1111111111111111,
              "#46039f"
             ],
             [
              0.2222222222222222,
              "#7201a8"
             ],
             [
              0.3333333333333333,
              "#9c179e"
             ],
             [
              0.4444444444444444,
              "#bd3786"
             ],
             [
              0.5555555555555556,
              "#d8576b"
             ],
             [
              0.6666666666666666,
              "#ed7953"
             ],
             [
              0.7777777777777778,
              "#fb9f3a"
             ],
             [
              0.8888888888888888,
              "#fdca26"
             ],
             [
              1,
              "#f0f921"
             ]
            ],
            "type": "histogram2d"
           }
          ],
          "histogram2dcontour": [
           {
            "colorbar": {
             "outlinewidth": 0,
             "ticks": ""
            },
            "colorscale": [
             [
              0,
              "#0d0887"
             ],
             [
              0.1111111111111111,
              "#46039f"
             ],
             [
              0.2222222222222222,
              "#7201a8"
             ],
             [
              0.3333333333333333,
              "#9c179e"
             ],
             [
              0.4444444444444444,
              "#bd3786"
             ],
             [
              0.5555555555555556,
              "#d8576b"
             ],
             [
              0.6666666666666666,
              "#ed7953"
             ],
             [
              0.7777777777777778,
              "#fb9f3a"
             ],
             [
              0.8888888888888888,
              "#fdca26"
             ],
             [
              1,
              "#f0f921"
             ]
            ],
            "type": "histogram2dcontour"
           }
          ],
          "mesh3d": [
           {
            "colorbar": {
             "outlinewidth": 0,
             "ticks": ""
            },
            "type": "mesh3d"
           }
          ],
          "parcoords": [
           {
            "line": {
             "colorbar": {
              "outlinewidth": 0,
              "ticks": ""
             }
            },
            "type": "parcoords"
           }
          ],
          "pie": [
           {
            "automargin": true,
            "type": "pie"
           }
          ],
          "scatter": [
           {
            "marker": {
             "colorbar": {
              "outlinewidth": 0,
              "ticks": ""
             }
            },
            "type": "scatter"
           }
          ],
          "scatter3d": [
           {
            "line": {
             "colorbar": {
              "outlinewidth": 0,
              "ticks": ""
             }
            },
            "marker": {
             "colorbar": {
              "outlinewidth": 0,
              "ticks": ""
             }
            },
            "type": "scatter3d"
           }
          ],
          "scattercarpet": [
           {
            "marker": {
             "colorbar": {
              "outlinewidth": 0,
              "ticks": ""
             }
            },
            "type": "scattercarpet"
           }
          ],
          "scattergeo": [
           {
            "marker": {
             "colorbar": {
              "outlinewidth": 0,
              "ticks": ""
             }
            },
            "type": "scattergeo"
           }
          ],
          "scattergl": [
           {
            "marker": {
             "colorbar": {
              "outlinewidth": 0,
              "ticks": ""
             }
            },
            "type": "scattergl"
           }
          ],
          "scattermapbox": [
           {
            "marker": {
             "colorbar": {
              "outlinewidth": 0,
              "ticks": ""
             }
            },
            "type": "scattermapbox"
           }
          ],
          "scatterpolar": [
           {
            "marker": {
             "colorbar": {
              "outlinewidth": 0,
              "ticks": ""
             }
            },
            "type": "scatterpolar"
           }
          ],
          "scatterpolargl": [
           {
            "marker": {
             "colorbar": {
              "outlinewidth": 0,
              "ticks": ""
             }
            },
            "type": "scatterpolargl"
           }
          ],
          "scatterternary": [
           {
            "marker": {
             "colorbar": {
              "outlinewidth": 0,
              "ticks": ""
             }
            },
            "type": "scatterternary"
           }
          ],
          "surface": [
           {
            "colorbar": {
             "outlinewidth": 0,
             "ticks": ""
            },
            "colorscale": [
             [
              0,
              "#0d0887"
             ],
             [
              0.1111111111111111,
              "#46039f"
             ],
             [
              0.2222222222222222,
              "#7201a8"
             ],
             [
              0.3333333333333333,
              "#9c179e"
             ],
             [
              0.4444444444444444,
              "#bd3786"
             ],
             [
              0.5555555555555556,
              "#d8576b"
             ],
             [
              0.6666666666666666,
              "#ed7953"
             ],
             [
              0.7777777777777778,
              "#fb9f3a"
             ],
             [
              0.8888888888888888,
              "#fdca26"
             ],
             [
              1,
              "#f0f921"
             ]
            ],
            "type": "surface"
           }
          ],
          "table": [
           {
            "cells": {
             "fill": {
              "color": "#EBF0F8"
             },
             "line": {
              "color": "white"
             }
            },
            "header": {
             "fill": {
              "color": "#C8D4E3"
             },
             "line": {
              "color": "white"
             }
            },
            "type": "table"
           }
          ]
         },
         "layout": {
          "annotationdefaults": {
           "arrowcolor": "#2a3f5f",
           "arrowhead": 0,
           "arrowwidth": 1
          },
          "autotypenumbers": "strict",
          "coloraxis": {
           "colorbar": {
            "outlinewidth": 0,
            "ticks": ""
           }
          },
          "colorscale": {
           "diverging": [
            [
             0,
             "#8e0152"
            ],
            [
             0.1,
             "#c51b7d"
            ],
            [
             0.2,
             "#de77ae"
            ],
            [
             0.3,
             "#f1b6da"
            ],
            [
             0.4,
             "#fde0ef"
            ],
            [
             0.5,
             "#f7f7f7"
            ],
            [
             0.6,
             "#e6f5d0"
            ],
            [
             0.7,
             "#b8e186"
            ],
            [
             0.8,
             "#7fbc41"
            ],
            [
             0.9,
             "#4d9221"
            ],
            [
             1,
             "#276419"
            ]
           ],
           "sequential": [
            [
             0,
             "#0d0887"
            ],
            [
             0.1111111111111111,
             "#46039f"
            ],
            [
             0.2222222222222222,
             "#7201a8"
            ],
            [
             0.3333333333333333,
             "#9c179e"
            ],
            [
             0.4444444444444444,
             "#bd3786"
            ],
            [
             0.5555555555555556,
             "#d8576b"
            ],
            [
             0.6666666666666666,
             "#ed7953"
            ],
            [
             0.7777777777777778,
             "#fb9f3a"
            ],
            [
             0.8888888888888888,
             "#fdca26"
            ],
            [
             1,
             "#f0f921"
            ]
           ],
           "sequentialminus": [
            [
             0,
             "#0d0887"
            ],
            [
             0.1111111111111111,
             "#46039f"
            ],
            [
             0.2222222222222222,
             "#7201a8"
            ],
            [
             0.3333333333333333,
             "#9c179e"
            ],
            [
             0.4444444444444444,
             "#bd3786"
            ],
            [
             0.5555555555555556,
             "#d8576b"
            ],
            [
             0.6666666666666666,
             "#ed7953"
            ],
            [
             0.7777777777777778,
             "#fb9f3a"
            ],
            [
             0.8888888888888888,
             "#fdca26"
            ],
            [
             1,
             "#f0f921"
            ]
           ]
          },
          "colorway": [
           "#636efa",
           "#EF553B",
           "#00cc96",
           "#ab63fa",
           "#FFA15A",
           "#19d3f3",
           "#FF6692",
           "#B6E880",
           "#FF97FF",
           "#FECB52"
          ],
          "font": {
           "color": "#2a3f5f"
          },
          "geo": {
           "bgcolor": "white",
           "lakecolor": "white",
           "landcolor": "#E5ECF6",
           "showlakes": true,
           "showland": true,
           "subunitcolor": "white"
          },
          "hoverlabel": {
           "align": "left"
          },
          "hovermode": "closest",
          "mapbox": {
           "style": "light"
          },
          "paper_bgcolor": "white",
          "plot_bgcolor": "#E5ECF6",
          "polar": {
           "angularaxis": {
            "gridcolor": "white",
            "linecolor": "white",
            "ticks": ""
           },
           "bgcolor": "#E5ECF6",
           "radialaxis": {
            "gridcolor": "white",
            "linecolor": "white",
            "ticks": ""
           }
          },
          "scene": {
           "xaxis": {
            "backgroundcolor": "#E5ECF6",
            "gridcolor": "white",
            "gridwidth": 2,
            "linecolor": "white",
            "showbackground": true,
            "ticks": "",
            "zerolinecolor": "white"
           },
           "yaxis": {
            "backgroundcolor": "#E5ECF6",
            "gridcolor": "white",
            "gridwidth": 2,
            "linecolor": "white",
            "showbackground": true,
            "ticks": "",
            "zerolinecolor": "white"
           },
           "zaxis": {
            "backgroundcolor": "#E5ECF6",
            "gridcolor": "white",
            "gridwidth": 2,
            "linecolor": "white",
            "showbackground": true,
            "ticks": "",
            "zerolinecolor": "white"
           }
          },
          "shapedefaults": {
           "line": {
            "color": "#2a3f5f"
           }
          },
          "ternary": {
           "aaxis": {
            "gridcolor": "white",
            "linecolor": "white",
            "ticks": ""
           },
           "baxis": {
            "gridcolor": "white",
            "linecolor": "white",
            "ticks": ""
           },
           "bgcolor": "#E5ECF6",
           "caxis": {
            "gridcolor": "white",
            "linecolor": "white",
            "ticks": ""
           }
          },
          "title": {
           "x": 0.05
          },
          "xaxis": {
           "automargin": true,
           "gridcolor": "white",
           "linecolor": "white",
           "ticks": "",
           "title": {
            "standoff": 15
           },
           "zerolinecolor": "white",
           "zerolinewidth": 2
          },
          "yaxis": {
           "automargin": true,
           "gridcolor": "white",
           "linecolor": "white",
           "ticks": "",
           "title": {
            "standoff": 15
           },
           "zerolinecolor": "white",
           "zerolinewidth": 2
          }
         }
        }
       }
      }
     },
     "metadata": {},
     "output_type": "display_data"
    }
   ],
   "source": [
    "import plotly.graph_objects as go\n",
    "\n",
    "categories=['TP','FP','TN','FN', 'TP']\n",
    "\n",
    "fig = go.Figure()\n",
    "\n",
    "fig.add_trace(go.Scatterpolar(\n",
    "    r=[cm_Nelson[1,1], cm_Nelson[1,0], cm_Nelson[0,0], cm_Nelson[0,1], cm_Nelson[1,1]],\n",
    "    theta=categories,\n",
    "    fill='toself',\n",
    "    name='Nelson'\n",
    "))\n",
    "\n",
    "fig.update_layout(\n",
    "  polar=dict(\n",
    "    radialaxis=dict(\n",
    "      visible=True,\n",
    "      range=[0, 7000]),\n",
    "      angularaxis=dict(\n",
    "      rotation=45,\n",
    "      direction='counterclockwise')\n",
    "      ),\n",
    "  showlegend=True,\n",
    ")\n",
    "\n",
    "fig.show()"
   ]
  }
 ],
 "metadata": {
  "interpreter": {
   "hash": "155419e57043e3c6c91350c5428c6cc33fefa50a0d623da8550d7adba7f4f47b"
  },
  "kernelspec": {
   "display_name": "Python 3.9.12 ('base')",
   "language": "python",
   "name": "python3"
  },
  "language_info": {
   "codemirror_mode": {
    "name": "ipython",
    "version": 3
   },
   "file_extension": ".py",
   "mimetype": "text/x-python",
   "name": "python",
   "nbconvert_exporter": "python",
   "pygments_lexer": "ipython3",
   "version": "3.9.12"
  },
  "orig_nbformat": 4
 },
 "nbformat": 4,
 "nbformat_minor": 2
}
