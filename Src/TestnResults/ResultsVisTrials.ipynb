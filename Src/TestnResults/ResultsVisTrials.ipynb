{
 "cells": [
  {
   "cell_type": "code",
   "execution_count": null,
   "metadata": {},
   "outputs": [],
   "source": [
    "import numpy as np\n",
    "import pandas as pd \n",
    "from sklearn.metrics import (confusion_matrix, precision_recall_curve, average_precision_score,\n",
    "                             roc_auc_score, classification_report, f1_score)\n",
    "import joblib\n",
    "import os\n",
    "os.chdir(r'C:/Users/Marc/Desktop/TFG/R Files/Anomaly Detection for SPC')\n",
    "from Src.FeatureExt.ML_AD_Preprocessing import *\n",
    "from sklearn.preprocessing import StandardScaler\n",
    "from plotly import graph_objects as go\n",
    "from plotly.subplots import make_subplots\n",
    "\n",
    "#import data and ML Modelss\n",
    "TS1 = pd.read_csv(\"Data/TimeSeries1.csv\", index_col = 0)\n",
    "TS1 = TS1.iloc[1280:1600, :]\n",
    "TS1_Class = pd.read_csv(\"Data/TimeSeries1_Classification.csv\", index_col = 0)\n",
    "TS1_Class = TS1_Class.iloc[1280:1600, 19:60]\n",
    "TS1_Class = np.array(TS1_Class).reshape(TS1_Class.size)\n",
    "\n",
    "TS1_WE_Class = pd.read_csv(\"Data/TimeSeries1_WE_Classification.csv\", index_col = 0)\n",
    "TS1_WE_Class = np.array(TS1_WE_Class.iloc[1280:1600])\\\n",
    "    .reshape(TS1_WE_Class.iloc[1280:1600].size)\n",
    "\n",
    "TS1_Nelson_Class = pd.read_csv(\"Data/TimeSeries1_Nelson_Classification.csv\", index_col = 0)\n",
    "TS1_Nelson_Class = np.array(TS1_Nelson_Class.iloc[1280:1600])\\\n",
    "    .reshape(TS1_Nelson_Class.iloc[1280:1600].size)\n",
    "\n",
    "iforest = joblib.load('ML_Models/ML_iforest.sav')\n",
    "\n",
    "SVM = joblib.load('ML_Models/ML_SVM.sav')"
   ]
  },
  {
   "cell_type": "code",
   "execution_count": null,
   "metadata": {},
   "outputs": [],
   "source": [
    "#Pre-processing\n",
    "#Standardize data based on first 20 points of chart, which is supposed in control       \n",
    "X_train = stdvector(TS1)\n",
    "\n",
    "#Extract features\n",
    "X_test = sw_dataset_3(X_train, 20)\n",
    "X_test = np.transpose(X_test)\n",
    "scaler = StandardScaler()\n",
    "scaler = scaler.fit(X_test)\n",
    "X_test = pd.DataFrame(X_test,\\\n",
    "     columns = [\"last_value\", \"mean20\", \"sigma20\",\"mean5\", \"sigma5\", \"find_if\", \"kurtosis\",\n",
    "     \"dir_change\", 'wavg', 'slope', 'meancross', 'rdist', 'brange'])\n",
    "X_test_SVM = scaler.transform(X_test)\n",
    "X_test_SVM = pd.DataFrame(X_test_SVM, columns = [\"last_value\", \"mean20\", \"sigma20\",\"mean5\", \"sigma5\", \"find_if\", \"kurtosis\",\n",
    "     \"dir_change\", 'wavg', 'slope', 'meancross', 'rdist', 'brange'])\n",
    "\n"
   ]
  },
  {
   "cell_type": "code",
   "execution_count": null,
   "metadata": {},
   "outputs": [],
   "source": [
    "#predict from ML Modelss\n",
    "#Predict iForest\n",
    "predictions_forest = iforest.predict(np.array(X_test))\n",
    "predictions_forest = np.array((predictions_forest == -1)*1)\n"
   ]
  },
  {
   "cell_type": "code",
   "execution_count": null,
   "metadata": {},
   "outputs": [],
   "source": [
    "#Predict SVM\n",
    "predictions_SVM = SVM.predict(np.array(X_test_SVM))"
   ]
  },
  {
   "cell_type": "code",
   "execution_count": null,
   "metadata": {},
   "outputs": [],
   "source": [
    "#Confusion Matrices Global\n",
    "cm_WE = confusion_matrix(TS1_Class, TS1_WE_Class)\n",
    "cm_Nelson = confusion_matrix(TS1_Class, TS1_Nelson_Class)\n",
    "cm_forest = confusion_matrix(TS1_Class, predictions_forest)\n",
    "cm_SVM = confusion_matrix(TS1_Class, predictions_SVM)\n",
    "\n",
    "#Confusion Matrices per error type\n",
    "TS1_Class_Normal = TS1_Class[0:1640]\n",
    "TS1_Class_Cyclic = TS1_Class[1640:3280]\n",
    "TS1_Class_Systematic = TS1_Class[3280:4920]\n",
    "TS1_Class_Stratified = TS1_Class[4920:6560]\n",
    "TS1_Class_ut = TS1_Class[6560:8200]\n",
    "TS1_Class_dt = TS1_Class[8200:9840]\n",
    "TS1_Class_us = TS1_Class[9840:11480]\n",
    "TS1_Class_ds = TS1_Class[11480:13120]\n",
    "\n",
    "TS1_WE_Class_Normal = TS1_WE_Class[0:1640]\n",
    "TS1_WE_Class_Cyclic = TS1_WE_Class[1640:3280]\n",
    "TS1_WE_Class_Systematic = TS1_WE_Class[3280:4920]\n",
    "TS1_WE_Class_Stratified = TS1_WE_Class[4920:6560]\n",
    "TS1_WE_Class_ut = TS1_WE_Class[6560:8200]\n",
    "TS1_WE_Class_dt = TS1_WE_Class[8200:9840]\n",
    "TS1_WE_Class_us = TS1_WE_Class[9840:11480]\n",
    "TS1_WE_Class_ds = TS1_WE_Class[11480:13120]\n",
    "\n",
    "TS1_Nelson_Class_Normal = TS1_Nelson_Class[0:1640]\n",
    "TS1_Nelson_Class_Cyclic = TS1_Nelson_Class[1640:3280]\n",
    "TS1_Nelson_Class_Systematic = TS1_Nelson_Class[3280:4920]\n",
    "TS1_Nelson_Class_Stratified = TS1_Nelson_Class[4920:6560]\n",
    "TS1_Nelson_Class_ut = TS1_Nelson_Class[6560:8200]\n",
    "TS1_Nelson_Class_dt = TS1_Nelson_Class[8200:9840]\n",
    "TS1_Nelson_Class_us = TS1_Nelson_Class[9840:11480]\n",
    "TS1_Nelson_Class_ds = TS1_Nelson_Class[11480:13120]\n"
   ]
  },
  {
   "cell_type": "code",
   "execution_count": null,
   "metadata": {},
   "outputs": [],
   "source": [
    "predictions_forest_Normal = predictions_forest[0:1640]\n",
    "predictions_forest_Cyclic = predictions_forest[1640:3280]\n",
    "predictions_forest_Systematic = predictions_forest[3280:4920]\n",
    "predictions_forest_Stratified = predictions_forest[4920:6560]\n",
    "predictions_forest_ut = predictions_forest[6560:8200]\n",
    "predictions_forest_dt = predictions_forest[8200:9840]\n",
    "predictions_forest_us = predictions_forest[9840:11480]\n",
    "predictions_forest_ds = predictions_forest[11480:13120]\n",
    "\n",
    "predictions_SVM_Normal = predictions_SVM[0:1640]\n",
    "predictions_SVM_Cyclic = predictions_SVM[1640:3280]\n",
    "predictions_SVM_Systematic = predictions_SVM[3280:4920]\n",
    "predictions_SVM_Stratified = predictions_SVM[4920:6560]\n",
    "predictions_SVM_ut = predictions_SVM[6560:8200]\n",
    "predictions_SVM_dt = predictions_SVM[8200:9840]\n",
    "predictions_SVM_us = predictions_SVM[9840:11480]\n",
    "predictions_SVM_ds = predictions_SVM[11480:13120]\n",
    "\n",
    "cm_perfect_normal = confusion_matrix(TS1_Class_Normal, TS1_Class_Normal)\n",
    "cm_perfect_Cyclic = confusion_matrix(TS1_Class_Cyclic, TS1_Class_Cyclic)\n",
    "cm_perfect_Systematic = confusion_matrix(TS1_Class_Systematic, TS1_Class_Systematic)\n",
    "cm_perfect_Stratified = confusion_matrix(TS1_Class_Stratified, TS1_Class_Stratified)\n",
    "cm_perfect_ut = confusion_matrix(TS1_Class_ut, TS1_Class_ut)\n",
    "cm_perfect_dt = confusion_matrix(TS1_Class_dt, TS1_Class_dt)\n",
    "cm_perfect_us = confusion_matrix(TS1_Class_us, TS1_Class_us)\n",
    "cm_perfect_ds = confusion_matrix(TS1_Class_ds, TS1_Class_ds)\n",
    "\n",
    "cm_WE_normal = confusion_matrix(TS1_Class_Normal, TS1_WE_Class_Normal)\n",
    "cm_WE_Cyclic = confusion_matrix(TS1_Class_Cyclic, TS1_WE_Class_Cyclic)\n",
    "cm_WE_Systematic = confusion_matrix(TS1_Class_Systematic, TS1_WE_Class_Systematic)\n",
    "cm_WE_Stratified = confusion_matrix(TS1_Class_Stratified, TS1_WE_Class_Stratified)\n",
    "cm_WE_ut = confusion_matrix(TS1_Class_ut, TS1_WE_Class_ut)\n",
    "cm_WE_dt = confusion_matrix(TS1_Class_dt, TS1_WE_Class_dt)\n",
    "cm_WE_us = confusion_matrix(TS1_Class_us, TS1_WE_Class_us)\n",
    "cm_WE_ds = confusion_matrix(TS1_Class_ds, TS1_WE_Class_ds)\n",
    "\n",
    "cm_Nelson_normal = confusion_matrix(TS1_Class_Normal, TS1_Nelson_Class_Normal)\n",
    "cm_Nelson_Cyclic = confusion_matrix(TS1_Class_Cyclic, TS1_Nelson_Class_Cyclic)\n",
    "cm_Nelson_Systematic = confusion_matrix(TS1_Class_Systematic, TS1_Nelson_Class_Systematic)\n",
    "cm_Nelson_Stratified = confusion_matrix(TS1_Class_Stratified, TS1_Nelson_Class_Stratified)\n",
    "cm_Nelson_ut = confusion_matrix(TS1_Class_ut, TS1_Nelson_Class_ut)\n",
    "cm_Nelson_dt = confusion_matrix(TS1_Class_dt, TS1_Nelson_Class_dt)\n",
    "cm_Nelson_us = confusion_matrix(TS1_Class_us, TS1_Nelson_Class_us)\n",
    "cm_Nelson_ds = confusion_matrix(TS1_Class_ds, TS1_Nelson_Class_ds)\n",
    "\n",
    "cm_forest_normal = confusion_matrix(TS1_Class_Normal, predictions_forest_Normal)\n",
    "cm_forest_Cyclic = confusion_matrix(TS1_Class_Cyclic, predictions_forest_Cyclic)\n",
    "cm_forest_Systematic = confusion_matrix(TS1_Class_Systematic, predictions_forest_Systematic)\n",
    "cm_forest_Stratified = confusion_matrix(TS1_Class_Stratified, predictions_forest_Stratified)\n",
    "cm_forest_ut = confusion_matrix(TS1_Class_ut, predictions_forest_ut)\n",
    "cm_forest_dt = confusion_matrix(TS1_Class_dt, predictions_forest_dt)\n",
    "cm_forest_us = confusion_matrix(TS1_Class_us, predictions_forest_us)\n",
    "cm_forest_ds = confusion_matrix(TS1_Class_ds, predictions_forest_ds)\n",
    "\n",
    "cm_SVM_normal = confusion_matrix(TS1_Class_Normal, predictions_SVM_Normal)\n",
    "cm_SVM_Cyclic = confusion_matrix(TS1_Class_Cyclic, predictions_SVM_Cyclic)\n",
    "cm_SVM_Systematic = confusion_matrix(TS1_Class_Systematic, predictions_SVM_Systematic)\n",
    "cm_SVM_Stratified = confusion_matrix(TS1_Class_Stratified, predictions_SVM_Stratified)\n",
    "cm_SVM_ut = confusion_matrix(TS1_Class_ut, predictions_SVM_ut)\n",
    "cm_SVM_dt = confusion_matrix(TS1_Class_dt, predictions_SVM_dt)\n",
    "cm_SVM_us = confusion_matrix(TS1_Class_us, predictions_SVM_us)\n",
    "cm_SVM_ds = confusion_matrix(TS1_Class_ds, predictions_SVM_ds)\n",
    "\n",
    "#Classification Report Global\n",
    "cf_WE = classification_report(TS1_Class, TS1_WE_Class)\n",
    "cf_Nelson = classification_report(TS1_Class, TS1_Nelson_Class)\n",
    "cf_forest = classification_report(TS1_Class, predictions_forest)\n",
    "cf_SVM = classification_report(TS1_Class, predictions_SVM)\n",
    "\n",
    "#Classification Report per Error\n",
    "cr_WE_normal = classification_report(TS1_Class_Normal, TS1_WE_Class_Normal)\n",
    "cr_WE_Cyclic = classification_report(TS1_Class_Cyclic, TS1_WE_Class_Cyclic)\n",
    "cr_WE_Systematic = classification_report(TS1_Class_Systematic, TS1_WE_Class_Systematic)\n",
    "cr_WE_Stratified = classification_report(TS1_Class_Stratified, TS1_WE_Class_Stratified)\n",
    "cr_WE_ut = classification_report(TS1_Class_ut, TS1_WE_Class_ut)\n",
    "cr_WE_dt = classification_report(TS1_Class_dt, TS1_WE_Class_dt)\n",
    "cr_WE_us = classification_report(TS1_Class_us, TS1_WE_Class_us)\n",
    "cr_WE_ds = classification_report(TS1_Class_ds, TS1_WE_Class_ds)\n",
    "\n",
    "cr_Nelson_normal = classification_report(TS1_Class_Normal, TS1_Nelson_Class_Normal)\n",
    "cr_Nelson_Cyclic = classification_report(TS1_Class_Cyclic, TS1_Nelson_Class_Cyclic)\n",
    "cr_Nelson_Systematic = classification_report(TS1_Class_Systematic, TS1_Nelson_Class_Systematic)\n",
    "cr_Nelson_Stratified = classification_report(TS1_Class_Stratified, TS1_Nelson_Class_Stratified)\n",
    "cr_Nelson_ut = classification_report(TS1_Class_ut, TS1_Nelson_Class_ut)\n",
    "cr_Nelson_dt = classification_report(TS1_Class_dt, TS1_Nelson_Class_dt)\n",
    "cr_Nelson_us = classification_report(TS1_Class_us, TS1_Nelson_Class_us)\n",
    "cr_Nelson_ds = classification_report(TS1_Class_ds, TS1_Nelson_Class_ds)\n",
    "\n",
    "cr_forest_normal = classification_report(TS1_Class_Normal, predictions_forest_Normal)\n",
    "cr_forest_Cyclic = classification_report(TS1_Class_Cyclic, predictions_forest_Cyclic)\n",
    "cr_forest_Systematic = classification_report(TS1_Class_Systematic, predictions_forest_Systematic)\n",
    "cr_forest_Stratified = classification_report(TS1_Class_Stratified, predictions_forest_Stratified)\n",
    "cr_forest_ut = classification_report(TS1_Class_ut, predictions_forest_ut)\n",
    "cr_forest_dt = classification_report(TS1_Class_dt, predictions_forest_dt)\n",
    "cr_forest_us = classification_report(TS1_Class_us, predictions_forest_us)\n",
    "cr_forest_ds = classification_report(TS1_Class_ds, predictions_forest_ds)\n",
    "\n",
    "cr_SVM_normal = classification_report(TS1_Class_Normal, predictions_SVM_Normal)\n",
    "cr_SVM_Cyclic = classification_report(TS1_Class_Cyclic, predictions_SVM_Cyclic)\n",
    "cr_SVM_Systematic = classification_report(TS1_Class_Systematic, predictions_SVM_Systematic)\n",
    "cr_SVM_Stratified = classification_report(TS1_Class_Stratified, predictions_SVM_Stratified)\n",
    "cr_SVM_ut = classification_report(TS1_Class_ut, predictions_SVM_ut)\n",
    "cr_SVM_dt = classification_report(TS1_Class_dt, predictions_SVM_dt)\n",
    "cr_SVM_us = classification_report(TS1_Class_us, predictions_SVM_us)\n",
    "cr_SVM_ds = classification_report(TS1_Class_ds, predictions_SVM_ds)"
   ]
  },
  {
   "cell_type": "code",
   "execution_count": null,
   "metadata": {},
   "outputs": [],
   "source": [
    "cm_global = [cm_WE,cm_Nelson,cm_forest,cm_SVM]\n",
    "cm_normal=[cm_WE_normal,cm_Nelson_normal,cm_forest_normal,cm_SVM_normal]\n",
    "cm_Stratified=[cm_WE_Stratified,cm_Nelson_Stratified,cm_forest_Stratified,cm_SVM_Stratified]\n",
    "cm_Systematic=[cm_WE_Systematic,cm_Nelson_Systematic,cm_forest_Systematic,cm_SVM_Systematic]\n",
    "cm_Cyclic=[cm_WE_Cyclic,cm_Nelson_Cyclic,cm_forest_Cyclic,cm_SVM_Cyclic]\n",
    "cm_ut=[cm_WE_ut,cm_Nelson_ut,cm_forest_ut,cm_SVM_ut]\n",
    "cm_dt=[cm_WE_dt,cm_Nelson_dt,cm_forest_dt,cm_SVM_dt]\n",
    "cm_us=[cm_WE_us,cm_Nelson_us,cm_forest_us,cm_SVM_us]\n",
    "cm_ds=[cm_WE_ds,cm_Nelson_ds,cm_forest_ds,cm_SVM_ds]"
   ]
  },
  {
   "cell_type": "code",
   "execution_count": 270,
   "metadata": {},
   "outputs": [
    {
     "data": {
      "application/vnd.plotly.v1+json": {
       "config": {
        "plotlyServerURL": "https://plot.ly"
       },
       "data": [
        {
         "fill": "toself",
         "fillcolor": "rgba(31, 119, 180,0.1)",
         "legendgroup": "WE",
         "marker": {
          "color": "rgba(31, 119, 180,1)"
         },
         "name": "WE",
         "r": [
          471,
          0,
          0,
          1169,
          471
         ],
         "subplot": "polar",
         "theta": [
          "FP",
          "TP",
          "FN",
          "TN",
          "FP"
         ],
         "type": "scatterpolar"
        },
        {
         "fill": "toself",
         "fillcolor": "rgba(31, 119, 180,0.1)",
         "legendgroup": "WE",
         "marker": {
          "color": "rgba(31, 119, 180,1)"
         },
         "name": "WE",
         "r": [
          140,
          284,
          536,
          680,
          140
         ],
         "showlegend": false,
         "subplot": "polar2",
         "theta": [
          "FP",
          "TP",
          "FN",
          "TN",
          "FP"
         ],
         "type": "scatterpolar"
        },
        {
         "fill": "toself",
         "fillcolor": "rgba(31, 119, 180,0.1)",
         "legendgroup": "WE",
         "marker": {
          "color": "rgba(31, 119, 180,1)"
         },
         "name": "WE",
         "r": [
          339,
          772,
          48,
          481,
          339
         ],
         "showlegend": false,
         "subplot": "polar3",
         "theta": [
          "FP",
          "TP",
          "FN",
          "TN",
          "FP"
         ],
         "type": "scatterpolar"
        },
        {
         "fill": "toself",
         "fillcolor": "rgba(31, 119, 180,0.1)",
         "legendgroup": "WE",
         "marker": {
          "color": "rgba(31, 119, 180,1)"
         },
         "name": "WE",
         "r": [
          153,
          686,
          134,
          667,
          153
         ],
         "showlegend": false,
         "subplot": "polar4",
         "theta": [
          "FP",
          "TP",
          "FN",
          "TN",
          "FP"
         ],
         "type": "scatterpolar"
        },
        {
         "fill": "toself",
         "fillcolor": "rgba(31, 119, 180,0.1)",
         "legendgroup": "WE",
         "marker": {
          "color": "rgba(31, 119, 180,1)"
         },
         "name": "WE",
         "r": [
          287,
          574,
          246,
          533,
          287
         ],
         "showlegend": false,
         "subplot": "polar5",
         "theta": [
          "FP",
          "TP",
          "FN",
          "TN",
          "FP"
         ],
         "type": "scatterpolar"
        },
        {
         "fill": "toself",
         "fillcolor": "rgba(31, 119, 180,0.1)",
         "legendgroup": "WE",
         "marker": {
          "color": "rgba(31, 119, 180,1)"
         },
         "name": "WE",
         "r": [
          195,
          444,
          376,
          625,
          195
         ],
         "showlegend": false,
         "subplot": "polar6",
         "theta": [
          "FP",
          "TP",
          "FN",
          "TN",
          "FP"
         ],
         "type": "scatterpolar"
        },
        {
         "fill": "toself",
         "fillcolor": "rgba(31, 119, 180,0.1)",
         "legendgroup": "WE",
         "marker": {
          "color": "rgba(31, 119, 180,1)"
         },
         "name": "WE",
         "r": [
          219,
          769,
          51,
          601,
          219
         ],
         "showlegend": false,
         "subplot": "polar7",
         "theta": [
          "FP",
          "TP",
          "FN",
          "TN",
          "FP"
         ],
         "type": "scatterpolar"
        },
        {
         "fill": "toself",
         "fillcolor": "rgba(31, 119, 180,0.1)",
         "legendgroup": "WE",
         "marker": {
          "color": "rgba(31, 119, 180,1)"
         },
         "name": "WE",
         "r": [
          242,
          784,
          36,
          578,
          242
         ],
         "showlegend": false,
         "subplot": "polar8",
         "theta": [
          "FP",
          "TP",
          "FN",
          "TN",
          "FP"
         ],
         "type": "scatterpolar"
        },
        {
         "fill": "toself",
         "fillcolor": "rgba(255, 127, 14,0.1)",
         "legendgroup": "Nelson",
         "marker": {
          "color": "rgba(255, 127, 14,1)"
         },
         "name": "Nelson",
         "r": [
          578,
          0,
          0,
          1062,
          578
         ],
         "subplot": "polar",
         "theta": [
          "FP",
          "TP",
          "FN",
          "TN",
          "FP"
         ],
         "type": "scatterpolar"
        },
        {
         "fill": "toself",
         "fillcolor": "rgba(255, 127, 14,0.1)",
         "legendgroup": "Nelson",
         "marker": {
          "color": "rgba(255, 127, 14,1)"
         },
         "name": "Nelson",
         "r": [
          236,
          547,
          273,
          584,
          236
         ],
         "showlegend": false,
         "subplot": "polar2",
         "theta": [
          "FP",
          "TP",
          "FN",
          "TN",
          "FP"
         ],
         "type": "scatterpolar"
        },
        {
         "fill": "toself",
         "fillcolor": "rgba(255, 127, 14,0.1)",
         "legendgroup": "Nelson",
         "marker": {
          "color": "rgba(255, 127, 14,1)"
         },
         "name": "Nelson",
         "r": [
          349,
          775,
          45,
          471,
          349
         ],
         "showlegend": false,
         "subplot": "polar3",
         "theta": [
          "FP",
          "TP",
          "FN",
          "TN",
          "FP"
         ],
         "type": "scatterpolar"
        },
        {
         "fill": "toself",
         "fillcolor": "rgba(255, 127, 14,0.1)",
         "legendgroup": "Nelson",
         "marker": {
          "color": "rgba(255, 127, 14,1)"
         },
         "name": "Nelson",
         "r": [
          210,
          696,
          124,
          610,
          210
         ],
         "showlegend": false,
         "subplot": "polar4",
         "theta": [
          "FP",
          "TP",
          "FN",
          "TN",
          "FP"
         ],
         "type": "scatterpolar"
        },
        {
         "fill": "toself",
         "fillcolor": "rgba(255, 127, 14,0.1)",
         "legendgroup": "Nelson",
         "marker": {
          "color": "rgba(255, 127, 14,1)"
         },
         "name": "Nelson",
         "r": [
          329,
          592,
          228,
          491,
          329
         ],
         "showlegend": false,
         "subplot": "polar5",
         "theta": [
          "FP",
          "TP",
          "FN",
          "TN",
          "FP"
         ],
         "type": "scatterpolar"
        },
        {
         "fill": "toself",
         "fillcolor": "rgba(255, 127, 14,0.1)",
         "legendgroup": "Nelson",
         "marker": {
          "color": "rgba(255, 127, 14,1)"
         },
         "name": "Nelson",
         "r": [
          238,
          449,
          371,
          582,
          238
         ],
         "showlegend": false,
         "subplot": "polar6",
         "theta": [
          "FP",
          "TP",
          "FN",
          "TN",
          "FP"
         ],
         "type": "scatterpolar"
        },
        {
         "fill": "toself",
         "fillcolor": "rgba(255, 127, 14,0.1)",
         "legendgroup": "Nelson",
         "marker": {
          "color": "rgba(255, 127, 14,1)"
         },
         "name": "Nelson",
         "r": [
          240,
          771,
          49,
          580,
          240
         ],
         "showlegend": false,
         "subplot": "polar7",
         "theta": [
          "FP",
          "TP",
          "FN",
          "TN",
          "FP"
         ],
         "type": "scatterpolar"
        },
        {
         "fill": "toself",
         "fillcolor": "rgba(255, 127, 14,0.1)",
         "legendgroup": "Nelson",
         "marker": {
          "color": "rgba(255, 127, 14,1)"
         },
         "name": "Nelson",
         "r": [
          264,
          784,
          36,
          556,
          264
         ],
         "showlegend": false,
         "subplot": "polar8",
         "theta": [
          "FP",
          "TP",
          "FN",
          "TN",
          "FP"
         ],
         "type": "scatterpolar"
        },
        {
         "fill": "toself",
         "fillcolor": "rgba(44, 160, 44,0.1)",
         "legendgroup": "iForest",
         "marker": {
          "color": "rgba(44, 160, 44,1)"
         },
         "name": "iForest",
         "r": [
          270,
          0,
          0,
          1370,
          270
         ],
         "subplot": "polar",
         "theta": [
          "FP",
          "TP",
          "FN",
          "TN",
          "FP"
         ],
         "type": "scatterpolar"
        },
        {
         "fill": "toself",
         "fillcolor": "rgba(44, 160, 44,0.1)",
         "legendgroup": "iForest",
         "marker": {
          "color": "rgba(44, 160, 44,1)"
         },
         "name": "iForest",
         "r": [
          117,
          523,
          297,
          703,
          117
         ],
         "showlegend": false,
         "subplot": "polar2",
         "theta": [
          "FP",
          "TP",
          "FN",
          "TN",
          "FP"
         ],
         "type": "scatterpolar"
        },
        {
         "fill": "toself",
         "fillcolor": "rgba(44, 160, 44,0.1)",
         "legendgroup": "iForest",
         "marker": {
          "color": "rgba(44, 160, 44,1)"
         },
         "name": "iForest",
         "r": [
          95,
          757,
          63,
          725,
          95
         ],
         "showlegend": false,
         "subplot": "polar3",
         "theta": [
          "FP",
          "TP",
          "FN",
          "TN",
          "FP"
         ],
         "type": "scatterpolar"
        },
        {
         "fill": "toself",
         "fillcolor": "rgba(44, 160, 44,0.1)",
         "legendgroup": "iForest",
         "marker": {
          "color": "rgba(44, 160, 44,1)"
         },
         "name": "iForest",
         "r": [
          118,
          697,
          123,
          702,
          118
         ],
         "showlegend": false,
         "subplot": "polar4",
         "theta": [
          "FP",
          "TP",
          "FN",
          "TN",
          "FP"
         ],
         "type": "scatterpolar"
        },
        {
         "fill": "toself",
         "fillcolor": "rgba(44, 160, 44,0.1)",
         "legendgroup": "iForest",
         "marker": {
          "color": "rgba(44, 160, 44,1)"
         },
         "name": "iForest",
         "r": [
          161,
          477,
          343,
          659,
          161
         ],
         "showlegend": false,
         "subplot": "polar5",
         "theta": [
          "FP",
          "TP",
          "FN",
          "TN",
          "FP"
         ],
         "type": "scatterpolar"
        },
        {
         "fill": "toself",
         "fillcolor": "rgba(44, 160, 44,0.1)",
         "legendgroup": "iForest",
         "marker": {
          "color": "rgba(44, 160, 44,1)"
         },
         "name": "iForest",
         "r": [
          84,
          434,
          386,
          736,
          84
         ],
         "showlegend": false,
         "subplot": "polar6",
         "theta": [
          "FP",
          "TP",
          "FN",
          "TN",
          "FP"
         ],
         "type": "scatterpolar"
        },
        {
         "fill": "toself",
         "fillcolor": "rgba(44, 160, 44,0.1)",
         "legendgroup": "iForest",
         "marker": {
          "color": "rgba(44, 160, 44,1)"
         },
         "name": "iForest",
         "r": [
          108,
          762,
          58,
          712,
          108
         ],
         "showlegend": false,
         "subplot": "polar7",
         "theta": [
          "FP",
          "TP",
          "FN",
          "TN",
          "FP"
         ],
         "type": "scatterpolar"
        },
        {
         "fill": "toself",
         "fillcolor": "rgba(44, 160, 44,0.1)",
         "legendgroup": "iForest",
         "marker": {
          "color": "rgba(44, 160, 44,1)"
         },
         "name": "iForest",
         "r": [
          113,
          769,
          51,
          707,
          113
         ],
         "showlegend": false,
         "subplot": "polar8",
         "theta": [
          "FP",
          "TP",
          "FN",
          "TN",
          "FP"
         ],
         "type": "scatterpolar"
        },
        {
         "fill": "toself",
         "fillcolor": "rgba(214, 39, 40,0.1)",
         "legendgroup": "SVM",
         "marker": {
          "color": "rgba(214, 39, 40,1)"
         },
         "name": "SVM",
         "r": [
          97,
          0,
          0,
          1543,
          97
         ],
         "subplot": "polar",
         "theta": [
          "FP",
          "TP",
          "FN",
          "TN",
          "FP"
         ],
         "type": "scatterpolar"
        },
        {
         "fill": "toself",
         "fillcolor": "rgba(214, 39, 40,0.1)",
         "legendgroup": "SVM",
         "marker": {
          "color": "rgba(214, 39, 40,1)"
         },
         "name": "SVM",
         "r": [
          30,
          481,
          339,
          790,
          30
         ],
         "showlegend": false,
         "subplot": "polar2",
         "theta": [
          "FP",
          "TP",
          "FN",
          "TN",
          "FP"
         ],
         "type": "scatterpolar"
        },
        {
         "fill": "toself",
         "fillcolor": "rgba(214, 39, 40,0.1)",
         "legendgroup": "SVM",
         "marker": {
          "color": "rgba(214, 39, 40,1)"
         },
         "name": "SVM",
         "r": [
          12,
          668,
          152,
          808,
          12
         ],
         "showlegend": false,
         "subplot": "polar3",
         "theta": [
          "FP",
          "TP",
          "FN",
          "TN",
          "FP"
         ],
         "type": "scatterpolar"
        },
        {
         "fill": "toself",
         "fillcolor": "rgba(214, 39, 40,0.1)",
         "legendgroup": "SVM",
         "marker": {
          "color": "rgba(214, 39, 40,1)"
         },
         "name": "SVM",
         "r": [
          32,
          642,
          178,
          788,
          32
         ],
         "showlegend": false,
         "subplot": "polar4",
         "theta": [
          "FP",
          "TP",
          "FN",
          "TN",
          "FP"
         ],
         "type": "scatterpolar"
        },
        {
         "fill": "toself",
         "fillcolor": "rgba(214, 39, 40,0.1)",
         "legendgroup": "SVM",
         "marker": {
          "color": "rgba(214, 39, 40,1)"
         },
         "name": "SVM",
         "r": [
          33,
          374,
          446,
          787,
          33
         ],
         "showlegend": false,
         "subplot": "polar5",
         "theta": [
          "FP",
          "TP",
          "FN",
          "TN",
          "FP"
         ],
         "type": "scatterpolar"
        },
        {
         "fill": "toself",
         "fillcolor": "rgba(214, 39, 40,0.1)",
         "legendgroup": "SVM",
         "marker": {
          "color": "rgba(214, 39, 40,1)"
         },
         "name": "SVM",
         "r": [
          24,
          371,
          449,
          796,
          24
         ],
         "showlegend": false,
         "subplot": "polar6",
         "theta": [
          "FP",
          "TP",
          "FN",
          "TN",
          "FP"
         ],
         "type": "scatterpolar"
        },
        {
         "fill": "toself",
         "fillcolor": "rgba(214, 39, 40,0.1)",
         "legendgroup": "SVM",
         "marker": {
          "color": "rgba(214, 39, 40,1)"
         },
         "name": "SVM",
         "r": [
          28,
          747,
          73,
          792,
          28
         ],
         "showlegend": false,
         "subplot": "polar7",
         "theta": [
          "FP",
          "TP",
          "FN",
          "TN",
          "FP"
         ],
         "type": "scatterpolar"
        },
        {
         "fill": "toself",
         "fillcolor": "rgba(214, 39, 40,0.1)",
         "legendgroup": "SVM",
         "marker": {
          "color": "rgba(214, 39, 40,1)"
         },
         "name": "SVM",
         "r": [
          27,
          741,
          79,
          793,
          27
         ],
         "showlegend": false,
         "subplot": "polar8",
         "theta": [
          "FP",
          "TP",
          "FN",
          "TN",
          "FP"
         ],
         "type": "scatterpolar"
        }
       ],
       "layout": {
        "annotations": [
         {
          "font": {
           "size": 16
          },
          "showarrow": false,
          "text": "Normal",
          "x": 0.10625,
          "xanchor": "center",
          "xref": "paper",
          "y": 1,
          "yanchor": "bottom",
          "yref": "paper"
         },
         {
          "font": {
           "size": 16
          },
          "showarrow": false,
          "text": "Stratified",
          "x": 0.36875,
          "xanchor": "center",
          "xref": "paper",
          "y": 1,
          "yanchor": "bottom",
          "yref": "paper"
         },
         {
          "font": {
           "size": 16
          },
          "showarrow": false,
          "text": "Systematic",
          "x": 0.6312500000000001,
          "xanchor": "center",
          "xref": "paper",
          "y": 1,
          "yanchor": "bottom",
          "yref": "paper"
         },
         {
          "font": {
           "size": 16
          },
          "showarrow": false,
          "text": "Cyclic",
          "x": 0.89375,
          "xanchor": "center",
          "xref": "paper",
          "y": 1,
          "yanchor": "bottom",
          "yref": "paper"
         },
         {
          "font": {
           "size": 16
          },
          "showarrow": false,
          "text": "Upward Trend",
          "x": 0.10625,
          "xanchor": "center",
          "xref": "paper",
          "y": 0.375,
          "yanchor": "bottom",
          "yref": "paper"
         },
         {
          "font": {
           "size": 16
          },
          "showarrow": false,
          "text": "Downward Trend",
          "x": 0.36875,
          "xanchor": "center",
          "xref": "paper",
          "y": 0.375,
          "yanchor": "bottom",
          "yref": "paper"
         },
         {
          "font": {
           "size": 16
          },
          "showarrow": false,
          "text": "Upward Shift",
          "x": 0.6312500000000001,
          "xanchor": "center",
          "xref": "paper",
          "y": 0.375,
          "yanchor": "bottom",
          "yref": "paper"
         },
         {
          "font": {
           "size": 16
          },
          "showarrow": false,
          "text": "Downward Shift",
          "x": 0.89375,
          "xanchor": "center",
          "xref": "paper",
          "y": 0.375,
          "yanchor": "bottom",
          "yref": "paper"
         }
        ],
        "height": 700,
        "polar": {
         "angularaxis": {
          "direction": "clockwise",
          "rotation": 45
         },
         "domain": {
          "x": [
           0,
           0.2125
          ],
          "y": [
           0.625,
           1
          ]
         },
         "radialaxis": {
          "range": [
           0,
           1900
          ],
          "visible": true
         }
        },
        "polar2": {
         "angularaxis": {
          "direction": "clockwise",
          "rotation": 45
         },
         "domain": {
          "x": [
           0.2625,
           0.475
          ],
          "y": [
           0.625,
           1
          ]
         },
         "radialaxis": {
          "range": [
           0,
           900
          ],
          "visible": true
         }
        },
        "polar3": {
         "angularaxis": {
          "direction": "clockwise",
          "rotation": 45
         },
         "domain": {
          "x": [
           0.525,
           0.7375
          ],
          "y": [
           0.625,
           1
          ]
         },
         "radialaxis": {
          "range": [
           0,
           900
          ],
          "visible": true
         }
        },
        "polar4": {
         "angularaxis": {
          "direction": "clockwise",
          "rotation": 45
         },
         "domain": {
          "x": [
           0.7875,
           1
          ],
          "y": [
           0.625,
           1
          ]
         },
         "radialaxis": {
          "range": [
           0,
           900
          ],
          "visible": true
         }
        },
        "polar5": {
         "angularaxis": {
          "direction": "clockwise",
          "rotation": 45
         },
         "domain": {
          "x": [
           0,
           0.2125
          ],
          "y": [
           0,
           0.375
          ]
         },
         "radialaxis": {
          "range": [
           0,
           900
          ],
          "visible": true
         }
        },
        "polar6": {
         "angularaxis": {
          "direction": "clockwise",
          "rotation": 45
         },
         "domain": {
          "x": [
           0.2625,
           0.475
          ],
          "y": [
           0,
           0.375
          ]
         },
         "radialaxis": {
          "range": [
           0,
           900
          ],
          "visible": true
         }
        },
        "polar7": {
         "angularaxis": {
          "direction": "clockwise",
          "rotation": 45
         },
         "domain": {
          "x": [
           0.525,
           0.7375
          ],
          "y": [
           0,
           0.375
          ]
         },
         "radialaxis": {
          "range": [
           0,
           900
          ],
          "visible": true
         }
        },
        "polar8": {
         "angularaxis": {
          "direction": "clockwise",
          "rotation": 45
         },
         "domain": {
          "x": [
           0.7875,
           1
          ],
          "y": [
           0,
           0.375
          ]
         },
         "radialaxis": {
          "range": [
           0,
           900
          ],
          "visible": true
         }
        },
        "template": {
         "data": {
          "bar": [
           {
            "error_x": {
             "color": "#2a3f5f"
            },
            "error_y": {
             "color": "#2a3f5f"
            },
            "marker": {
             "line": {
              "color": "#E5ECF6",
              "width": 0.5
             },
             "pattern": {
              "fillmode": "overlay",
              "size": 10,
              "solidity": 0.2
             }
            },
            "type": "bar"
           }
          ],
          "barpolar": [
           {
            "marker": {
             "line": {
              "color": "#E5ECF6",
              "width": 0.5
             },
             "pattern": {
              "fillmode": "overlay",
              "size": 10,
              "solidity": 0.2
             }
            },
            "type": "barpolar"
           }
          ],
          "carpet": [
           {
            "aaxis": {
             "endlinecolor": "#2a3f5f",
             "gridcolor": "white",
             "linecolor": "white",
             "minorgridcolor": "white",
             "startlinecolor": "#2a3f5f"
            },
            "baxis": {
             "endlinecolor": "#2a3f5f",
             "gridcolor": "white",
             "linecolor": "white",
             "minorgridcolor": "white",
             "startlinecolor": "#2a3f5f"
            },
            "type": "carpet"
           }
          ],
          "choropleth": [
           {
            "colorbar": {
             "outlinewidth": 0,
             "ticks": ""
            },
            "type": "choropleth"
           }
          ],
          "contour": [
           {
            "colorbar": {
             "outlinewidth": 0,
             "ticks": ""
            },
            "colorscale": [
             [
              0,
              "#0d0887"
             ],
             [
              0.1111111111111111,
              "#46039f"
             ],
             [
              0.2222222222222222,
              "#7201a8"
             ],
             [
              0.3333333333333333,
              "#9c179e"
             ],
             [
              0.4444444444444444,
              "#bd3786"
             ],
             [
              0.5555555555555556,
              "#d8576b"
             ],
             [
              0.6666666666666666,
              "#ed7953"
             ],
             [
              0.7777777777777778,
              "#fb9f3a"
             ],
             [
              0.8888888888888888,
              "#fdca26"
             ],
             [
              1,
              "#f0f921"
             ]
            ],
            "type": "contour"
           }
          ],
          "contourcarpet": [
           {
            "colorbar": {
             "outlinewidth": 0,
             "ticks": ""
            },
            "type": "contourcarpet"
           }
          ],
          "heatmap": [
           {
            "colorbar": {
             "outlinewidth": 0,
             "ticks": ""
            },
            "colorscale": [
             [
              0,
              "#0d0887"
             ],
             [
              0.1111111111111111,
              "#46039f"
             ],
             [
              0.2222222222222222,
              "#7201a8"
             ],
             [
              0.3333333333333333,
              "#9c179e"
             ],
             [
              0.4444444444444444,
              "#bd3786"
             ],
             [
              0.5555555555555556,
              "#d8576b"
             ],
             [
              0.6666666666666666,
              "#ed7953"
             ],
             [
              0.7777777777777778,
              "#fb9f3a"
             ],
             [
              0.8888888888888888,
              "#fdca26"
             ],
             [
              1,
              "#f0f921"
             ]
            ],
            "type": "heatmap"
           }
          ],
          "heatmapgl": [
           {
            "colorbar": {
             "outlinewidth": 0,
             "ticks": ""
            },
            "colorscale": [
             [
              0,
              "#0d0887"
             ],
             [
              0.1111111111111111,
              "#46039f"
             ],
             [
              0.2222222222222222,
              "#7201a8"
             ],
             [
              0.3333333333333333,
              "#9c179e"
             ],
             [
              0.4444444444444444,
              "#bd3786"
             ],
             [
              0.5555555555555556,
              "#d8576b"
             ],
             [
              0.6666666666666666,
              "#ed7953"
             ],
             [
              0.7777777777777778,
              "#fb9f3a"
             ],
             [
              0.8888888888888888,
              "#fdca26"
             ],
             [
              1,
              "#f0f921"
             ]
            ],
            "type": "heatmapgl"
           }
          ],
          "histogram": [
           {
            "marker": {
             "pattern": {
              "fillmode": "overlay",
              "size": 10,
              "solidity": 0.2
             }
            },
            "type": "histogram"
           }
          ],
          "histogram2d": [
           {
            "colorbar": {
             "outlinewidth": 0,
             "ticks": ""
            },
            "colorscale": [
             [
              0,
              "#0d0887"
             ],
             [
              0.1111111111111111,
              "#46039f"
             ],
             [
              0.2222222222222222,
              "#7201a8"
             ],
             [
              0.3333333333333333,
              "#9c179e"
             ],
             [
              0.4444444444444444,
              "#bd3786"
             ],
             [
              0.5555555555555556,
              "#d8576b"
             ],
             [
              0.6666666666666666,
              "#ed7953"
             ],
             [
              0.7777777777777778,
              "#fb9f3a"
             ],
             [
              0.8888888888888888,
              "#fdca26"
             ],
             [
              1,
              "#f0f921"
             ]
            ],
            "type": "histogram2d"
           }
          ],
          "histogram2dcontour": [
           {
            "colorbar": {
             "outlinewidth": 0,
             "ticks": ""
            },
            "colorscale": [
             [
              0,
              "#0d0887"
             ],
             [
              0.1111111111111111,
              "#46039f"
             ],
             [
              0.2222222222222222,
              "#7201a8"
             ],
             [
              0.3333333333333333,
              "#9c179e"
             ],
             [
              0.4444444444444444,
              "#bd3786"
             ],
             [
              0.5555555555555556,
              "#d8576b"
             ],
             [
              0.6666666666666666,
              "#ed7953"
             ],
             [
              0.7777777777777778,
              "#fb9f3a"
             ],
             [
              0.8888888888888888,
              "#fdca26"
             ],
             [
              1,
              "#f0f921"
             ]
            ],
            "type": "histogram2dcontour"
           }
          ],
          "mesh3d": [
           {
            "colorbar": {
             "outlinewidth": 0,
             "ticks": ""
            },
            "type": "mesh3d"
           }
          ],
          "parcoords": [
           {
            "line": {
             "colorbar": {
              "outlinewidth": 0,
              "ticks": ""
             }
            },
            "type": "parcoords"
           }
          ],
          "pie": [
           {
            "automargin": true,
            "type": "pie"
           }
          ],
          "scatter": [
           {
            "marker": {
             "colorbar": {
              "outlinewidth": 0,
              "ticks": ""
             }
            },
            "type": "scatter"
           }
          ],
          "scatter3d": [
           {
            "line": {
             "colorbar": {
              "outlinewidth": 0,
              "ticks": ""
             }
            },
            "marker": {
             "colorbar": {
              "outlinewidth": 0,
              "ticks": ""
             }
            },
            "type": "scatter3d"
           }
          ],
          "scattercarpet": [
           {
            "marker": {
             "colorbar": {
              "outlinewidth": 0,
              "ticks": ""
             }
            },
            "type": "scattercarpet"
           }
          ],
          "scattergeo": [
           {
            "marker": {
             "colorbar": {
              "outlinewidth": 0,
              "ticks": ""
             }
            },
            "type": "scattergeo"
           }
          ],
          "scattergl": [
           {
            "marker": {
             "colorbar": {
              "outlinewidth": 0,
              "ticks": ""
             }
            },
            "type": "scattergl"
           }
          ],
          "scattermapbox": [
           {
            "marker": {
             "colorbar": {
              "outlinewidth": 0,
              "ticks": ""
             }
            },
            "type": "scattermapbox"
           }
          ],
          "scatterpolar": [
           {
            "marker": {
             "colorbar": {
              "outlinewidth": 0,
              "ticks": ""
             }
            },
            "type": "scatterpolar"
           }
          ],
          "scatterpolargl": [
           {
            "marker": {
             "colorbar": {
              "outlinewidth": 0,
              "ticks": ""
             }
            },
            "type": "scatterpolargl"
           }
          ],
          "scatterternary": [
           {
            "marker": {
             "colorbar": {
              "outlinewidth": 0,
              "ticks": ""
             }
            },
            "type": "scatterternary"
           }
          ],
          "surface": [
           {
            "colorbar": {
             "outlinewidth": 0,
             "ticks": ""
            },
            "colorscale": [
             [
              0,
              "#0d0887"
             ],
             [
              0.1111111111111111,
              "#46039f"
             ],
             [
              0.2222222222222222,
              "#7201a8"
             ],
             [
              0.3333333333333333,
              "#9c179e"
             ],
             [
              0.4444444444444444,
              "#bd3786"
             ],
             [
              0.5555555555555556,
              "#d8576b"
             ],
             [
              0.6666666666666666,
              "#ed7953"
             ],
             [
              0.7777777777777778,
              "#fb9f3a"
             ],
             [
              0.8888888888888888,
              "#fdca26"
             ],
             [
              1,
              "#f0f921"
             ]
            ],
            "type": "surface"
           }
          ],
          "table": [
           {
            "cells": {
             "fill": {
              "color": "#EBF0F8"
             },
             "line": {
              "color": "white"
             }
            },
            "header": {
             "fill": {
              "color": "#C8D4E3"
             },
             "line": {
              "color": "white"
             }
            },
            "type": "table"
           }
          ]
         },
         "layout": {
          "annotationdefaults": {
           "arrowcolor": "#2a3f5f",
           "arrowhead": 0,
           "arrowwidth": 1
          },
          "autotypenumbers": "strict",
          "coloraxis": {
           "colorbar": {
            "outlinewidth": 0,
            "ticks": ""
           }
          },
          "colorscale": {
           "diverging": [
            [
             0,
             "#8e0152"
            ],
            [
             0.1,
             "#c51b7d"
            ],
            [
             0.2,
             "#de77ae"
            ],
            [
             0.3,
             "#f1b6da"
            ],
            [
             0.4,
             "#fde0ef"
            ],
            [
             0.5,
             "#f7f7f7"
            ],
            [
             0.6,
             "#e6f5d0"
            ],
            [
             0.7,
             "#b8e186"
            ],
            [
             0.8,
             "#7fbc41"
            ],
            [
             0.9,
             "#4d9221"
            ],
            [
             1,
             "#276419"
            ]
           ],
           "sequential": [
            [
             0,
             "#0d0887"
            ],
            [
             0.1111111111111111,
             "#46039f"
            ],
            [
             0.2222222222222222,
             "#7201a8"
            ],
            [
             0.3333333333333333,
             "#9c179e"
            ],
            [
             0.4444444444444444,
             "#bd3786"
            ],
            [
             0.5555555555555556,
             "#d8576b"
            ],
            [
             0.6666666666666666,
             "#ed7953"
            ],
            [
             0.7777777777777778,
             "#fb9f3a"
            ],
            [
             0.8888888888888888,
             "#fdca26"
            ],
            [
             1,
             "#f0f921"
            ]
           ],
           "sequentialminus": [
            [
             0,
             "#0d0887"
            ],
            [
             0.1111111111111111,
             "#46039f"
            ],
            [
             0.2222222222222222,
             "#7201a8"
            ],
            [
             0.3333333333333333,
             "#9c179e"
            ],
            [
             0.4444444444444444,
             "#bd3786"
            ],
            [
             0.5555555555555556,
             "#d8576b"
            ],
            [
             0.6666666666666666,
             "#ed7953"
            ],
            [
             0.7777777777777778,
             "#fb9f3a"
            ],
            [
             0.8888888888888888,
             "#fdca26"
            ],
            [
             1,
             "#f0f921"
            ]
           ]
          },
          "colorway": [
           "#636efa",
           "#EF553B",
           "#00cc96",
           "#ab63fa",
           "#FFA15A",
           "#19d3f3",
           "#FF6692",
           "#B6E880",
           "#FF97FF",
           "#FECB52"
          ],
          "font": {
           "color": "#2a3f5f"
          },
          "geo": {
           "bgcolor": "white",
           "lakecolor": "white",
           "landcolor": "#E5ECF6",
           "showlakes": true,
           "showland": true,
           "subunitcolor": "white"
          },
          "hoverlabel": {
           "align": "left"
          },
          "hovermode": "closest",
          "mapbox": {
           "style": "light"
          },
          "paper_bgcolor": "white",
          "plot_bgcolor": "#E5ECF6",
          "polar": {
           "angularaxis": {
            "gridcolor": "white",
            "linecolor": "white",
            "ticks": ""
           },
           "bgcolor": "#E5ECF6",
           "radialaxis": {
            "gridcolor": "white",
            "linecolor": "white",
            "ticks": ""
           }
          },
          "scene": {
           "xaxis": {
            "backgroundcolor": "#E5ECF6",
            "gridcolor": "white",
            "gridwidth": 2,
            "linecolor": "white",
            "showbackground": true,
            "ticks": "",
            "zerolinecolor": "white"
           },
           "yaxis": {
            "backgroundcolor": "#E5ECF6",
            "gridcolor": "white",
            "gridwidth": 2,
            "linecolor": "white",
            "showbackground": true,
            "ticks": "",
            "zerolinecolor": "white"
           },
           "zaxis": {
            "backgroundcolor": "#E5ECF6",
            "gridcolor": "white",
            "gridwidth": 2,
            "linecolor": "white",
            "showbackground": true,
            "ticks": "",
            "zerolinecolor": "white"
           }
          },
          "shapedefaults": {
           "line": {
            "color": "#2a3f5f"
           }
          },
          "ternary": {
           "aaxis": {
            "gridcolor": "white",
            "linecolor": "white",
            "ticks": ""
           },
           "baxis": {
            "gridcolor": "white",
            "linecolor": "white",
            "ticks": ""
           },
           "bgcolor": "#E5ECF6",
           "caxis": {
            "gridcolor": "white",
            "linecolor": "white",
            "ticks": ""
           }
          },
          "title": {
           "x": 0.05
          },
          "xaxis": {
           "automargin": true,
           "gridcolor": "white",
           "linecolor": "white",
           "ticks": "",
           "title": {
            "standoff": 15
           },
           "zerolinecolor": "white",
           "zerolinewidth": 2
          },
          "yaxis": {
           "automargin": true,
           "gridcolor": "white",
           "linecolor": "white",
           "ticks": "",
           "title": {
            "standoff": 15
           },
           "zerolinecolor": "white",
           "zerolinewidth": 2
          }
         }
        },
        "title": {
         "text": "Classification Matrix per Error Type"
        },
        "width": 1250
       }
      }
     },
     "metadata": {},
     "output_type": "display_data"
    }
   ],
   "source": [
    "categories=['FP','TP','FN','TN', 'FP']\n",
    "names=['WE', 'Nelson', 'iForest', 'SVM']\n",
    "colorsfill=['rgba(31, 119, 180,0.1)', 'rgba(255, 127, 14,0.1)',\n",
    "                       'rgba(44, 160, 44,0.1)', 'rgba(214, 39, 40,0.1)',\n",
    "                       'rgba(148, 103, 189,0.1)', 'rgba(140, 86, 75,0.1)',\n",
    "                       'rgba(227, 119, 194,0.1)', 'rgba(127, 127, 127,0.1)']\n",
    "colors=['rgba(31, 119, 180,1)', 'rgba(255, 127, 14,1)',\n",
    "                       'rgba(44, 160, 44,1)', 'rgba(214, 39, 40,1)',\n",
    "                       'rgba(148, 103, 189,1)', 'rgba(140, 86, 75,1)',\n",
    "                       'rgba(227, 119, 194,1)', 'rgba(127, 127, 127,1)']\n",
    "fig= make_subplots(rows=2, cols=4, specs=[[{'type': 'polar'}]*4]*2, subplot_titles=(\"Normal\", \"Stratified\",\n",
    " \"Systematic\", \"Cyclic\", \"Upward Trend\", \"Downward Trend\", \"Upward Shift\", \"Downward Shift\"))\n",
    "\n",
    "\n",
    "for i in range(len(cm_normal)):\n",
    "  fig.add_trace(go.Scatterpolar(\n",
    "      r=[cm_normal[i][0,1], cm_normal[i][1,1], cm_normal[i][1,0], cm_normal[i][0,0], cm_normal[i][0,1]],\n",
    "      theta=categories,\n",
    "      marker = dict(color=colors[i]),\n",
    "      fill='toself',\n",
    "      legendgroup=names[i],\n",
    "      subplot = \"polar1\",\n",
    "      name=names[i],\n",
    "      fillcolor=colorsfill[i]\n",
    "  ), 1, 1),\n",
    "  name=names[i],\n",
    "  fillcolor=colorsfill[i]\n",
    "  fig.add_trace(go.Scatterpolar(\n",
    "      r=[cm_Stratified[i][0,1], cm_Stratified[i][1,1], cm_Stratified[i][1,0], cm_Stratified[i][0,0], cm_Stratified[i][0,1]],\n",
    "      theta=categories,\n",
    "      marker = dict(color=colors[i]),\n",
    "      fill='toself',\n",
    "      legendgroup=names[i],\n",
    "      subplot = \"polar2\",\n",
    "      showlegend=False,\n",
    "      name=names[i],\n",
    "      fillcolor=colorsfill[i]\n",
    "  ), 1, 2)\n",
    "  fig.add_trace(go.Scatterpolar(\n",
    "      r=[cm_Systematic[i][0,1], cm_Systematic[i][1,1], cm_Systematic[i][1,0], cm_Systematic[i][0,0], cm_Systematic[i][0,1]],\n",
    "      theta=categories,\n",
    "      marker = dict(color=colors[i]),\n",
    "      fill='toself',\n",
    "      legendgroup=names[i],\n",
    "      subplot = \"polar3\",\n",
    "      showlegend=False,\n",
    "      name=names[i],\n",
    "      fillcolor=colorsfill[i]\n",
    "  ), 1, 3)\n",
    "  fig.add_trace(go.Scatterpolar(\n",
    "      r=[cm_Cyclic[i][0,1], cm_Cyclic[i][1,1], cm_Cyclic[i][1,0], cm_Cyclic[i][0,0], cm_Cyclic[i][0,1]],\n",
    "      theta=categories,\n",
    "      marker = dict(color=colors[i]),\n",
    "      fill='toself',\n",
    "      legendgroup=names[i],\n",
    "      subplot = \"polar4\",\n",
    "      showlegend=False,\n",
    "      name=names[i],\n",
    "      fillcolor=colorsfill[i]\n",
    "  ), 1, 4)\n",
    "  fig.add_trace(go.Scatterpolar(\n",
    "      r=[cm_ut[i][0,1], cm_ut[i][1,1], cm_ut[i][1,0], cm_ut[i][0,0], cm_ut[i][0,1]],\n",
    "      theta=categories,\n",
    "      marker = dict(color=colors[i]),\n",
    "      fill='toself',\n",
    "      legendgroup=names[i],\n",
    "      subplot = \"polar4\",\n",
    "      showlegend=False,\n",
    "      name=names[i],\n",
    "      fillcolor=colorsfill[i]\n",
    "  ), 2, 1)\n",
    "  fig.add_trace(go.Scatterpolar(\n",
    "      r=[cm_dt[i][0,1], cm_dt[i][1,1], cm_dt[i][1,0], cm_dt[i][0,0], cm_dt[i][0,1]],\n",
    "      theta=categories,\n",
    "      marker = dict(color=colors[i]),\n",
    "      fill='toself',\n",
    "      legendgroup=names[i],\n",
    "      subplot = \"polar4\",\n",
    "      showlegend=False,\n",
    "      name=names[i],\n",
    "      fillcolor=colorsfill[i]\n",
    "  ), 2, 2)\n",
    "  fig.add_trace(go.Scatterpolar(\n",
    "      r=[cm_us[i][0,1], cm_us[i][1,1], cm_us[i][1,0], cm_us[i][0,0], cm_us[i][0,1]],\n",
    "      theta=categories,\n",
    "      marker = dict(color=colors[i]),\n",
    "      fill='toself',\n",
    "      legendgroup=names[i],\n",
    "      subplot = \"polar4\",\n",
    "      showlegend=False,\n",
    "      name=names[i],\n",
    "      fillcolor=colorsfill[i]\n",
    "  ), 2, 3)\n",
    "  fig.add_trace(go.Scatterpolar(\n",
    "      r=[cm_ds[i][0,1], cm_ds[i][1,1], cm_ds[i][1,0], cm_ds[i][0,0], cm_ds[i][0,1]],\n",
    "      theta=categories,\n",
    "      marker = dict(color=colors[i]),\n",
    "      fill='toself',\n",
    "      legendgroup=names[i],\n",
    "      subplot = \"polar4\",\n",
    "      showlegend=False,\n",
    "      name=names[i],\n",
    "      fillcolor=colorsfill[i]\n",
    "  ), 2, 4)\n",
    "\n",
    "fig.update_layout(\n",
    "    polar1=dict(\n",
    "    radialaxis=dict(\n",
    "    visible=True,\n",
    "    range=[0, 1900]),\n",
    "    angularaxis=dict(\n",
    "    rotation= 45,\n",
    "    direction='clockwise')\n",
    "    ),\n",
    "    polar2=dict(\n",
    "    radialaxis=dict(\n",
    "    visible=True,\n",
    "    range=[0, 900]),\n",
    "    angularaxis=dict(\n",
    "    rotation= 45,\n",
    "    direction='clockwise')\n",
    "    ),\n",
    "    polar3=dict(\n",
    "    radialaxis=dict(\n",
    "    visible=True,\n",
    "    range=[0, 900]),\n",
    "    angularaxis=dict(\n",
    "    rotation= 45,\n",
    "    direction='clockwise')\n",
    "    ),\n",
    "    polar4=dict(\n",
    "    radialaxis=dict(\n",
    "    visible=True,\n",
    "    range=[0, 900]),\n",
    "    angularaxis=dict(\n",
    "    rotation= 45,\n",
    "    direction='clockwise')\n",
    "    ),\n",
    "    polar5=dict(\n",
    "    radialaxis=dict(\n",
    "    visible=True,\n",
    "    range=[0, 900]),\n",
    "    angularaxis=dict(\n",
    "    rotation= 45,\n",
    "    direction='clockwise')\n",
    "    ),\n",
    "    polar6=dict(\n",
    "    radialaxis=dict(\n",
    "    visible=True,\n",
    "    range=[0, 900]),\n",
    "    angularaxis=dict(\n",
    "    rotation= 45,\n",
    "    direction='clockwise')\n",
    "    ),\n",
    "    polar7=dict(\n",
    "    radialaxis=dict(\n",
    "    visible=True,\n",
    "    range=[0, 900]),\n",
    "    angularaxis=dict(\n",
    "    rotation= 45,\n",
    "    direction='clockwise')\n",
    "    ),\n",
    "    polar8=dict(\n",
    "    radialaxis=dict(\n",
    "    visible=True,\n",
    "    range=[0, 900]),\n",
    "    angularaxis=dict(\n",
    "    rotation= 45,\n",
    "    direction='clockwise')\n",
    "    ),\n",
    "    height=700,\n",
    "    width=1250,\n",
    "    title = 'Classification Matrix per Error Type'\n",
    "  )\n",
    "\n",
    "fig.show()"
   ]
  },
  {
   "cell_type": "code",
   "execution_count": 266,
   "metadata": {},
   "outputs": [
    {
     "data": {
      "application/vnd.plotly.v1+json": {
       "config": {
        "plotlyServerURL": "https://plot.ly"
       },
       "data": [
        {
         "fill": "toself",
         "fillcolor": "rgba(31, 119, 180,0.1)",
         "legendgroup": "WE",
         "marker": {
          "color": "rgba(31, 119, 180,1)"
         },
         "name": "WE",
         "r": [
          2046,
          4313,
          1427,
          5334,
          2046
         ],
         "subplot": "polar",
         "theta": [
          "FP",
          "TP",
          "FN",
          "TN",
          "FP"
         ],
         "type": "scatterpolar"
        },
        {
         "fill": "toself",
         "fillcolor": "rgba(255, 127, 14,0.1)",
         "legendgroup": "Nelson",
         "marker": {
          "color": "rgba(255, 127, 14,1)"
         },
         "name": "Nelson",
         "r": [
          2444,
          4614,
          1126,
          4936,
          2444
         ],
         "subplot": "polar",
         "theta": [
          "FP",
          "TP",
          "FN",
          "TN",
          "FP"
         ],
         "type": "scatterpolar"
        },
        {
         "fill": "toself",
         "fillcolor": "rgba(44, 160, 44,0.1)",
         "legendgroup": "iForest",
         "marker": {
          "color": "rgba(44, 160, 44,1)"
         },
         "name": "iForest",
         "r": [
          1066,
          4419,
          1321,
          6314,
          1066
         ],
         "subplot": "polar",
         "theta": [
          "FP",
          "TP",
          "FN",
          "TN",
          "FP"
         ],
         "type": "scatterpolar"
        },
        {
         "fill": "toself",
         "fillcolor": "rgba(214, 39, 40,0.1)",
         "legendgroup": "SVM",
         "marker": {
          "color": "rgba(214, 39, 40,1)"
         },
         "name": "SVM",
         "r": [
          283,
          4024,
          1716,
          7097,
          283
         ],
         "subplot": "polar",
         "theta": [
          "FP",
          "TP",
          "FN",
          "TN",
          "FP"
         ],
         "type": "scatterpolar"
        }
       ],
       "layout": {
        "height": 500,
        "polar": {
         "angularaxis": {
          "direction": "clockwise",
          "rotation": 45
         },
         "radialaxis": {
          "range": [
           0,
           7300
          ],
          "visible": true
         }
        },
        "template": {
         "data": {
          "bar": [
           {
            "error_x": {
             "color": "#2a3f5f"
            },
            "error_y": {
             "color": "#2a3f5f"
            },
            "marker": {
             "line": {
              "color": "#E5ECF6",
              "width": 0.5
             },
             "pattern": {
              "fillmode": "overlay",
              "size": 10,
              "solidity": 0.2
             }
            },
            "type": "bar"
           }
          ],
          "barpolar": [
           {
            "marker": {
             "line": {
              "color": "#E5ECF6",
              "width": 0.5
             },
             "pattern": {
              "fillmode": "overlay",
              "size": 10,
              "solidity": 0.2
             }
            },
            "type": "barpolar"
           }
          ],
          "carpet": [
           {
            "aaxis": {
             "endlinecolor": "#2a3f5f",
             "gridcolor": "white",
             "linecolor": "white",
             "minorgridcolor": "white",
             "startlinecolor": "#2a3f5f"
            },
            "baxis": {
             "endlinecolor": "#2a3f5f",
             "gridcolor": "white",
             "linecolor": "white",
             "minorgridcolor": "white",
             "startlinecolor": "#2a3f5f"
            },
            "type": "carpet"
           }
          ],
          "choropleth": [
           {
            "colorbar": {
             "outlinewidth": 0,
             "ticks": ""
            },
            "type": "choropleth"
           }
          ],
          "contour": [
           {
            "colorbar": {
             "outlinewidth": 0,
             "ticks": ""
            },
            "colorscale": [
             [
              0,
              "#0d0887"
             ],
             [
              0.1111111111111111,
              "#46039f"
             ],
             [
              0.2222222222222222,
              "#7201a8"
             ],
             [
              0.3333333333333333,
              "#9c179e"
             ],
             [
              0.4444444444444444,
              "#bd3786"
             ],
             [
              0.5555555555555556,
              "#d8576b"
             ],
             [
              0.6666666666666666,
              "#ed7953"
             ],
             [
              0.7777777777777778,
              "#fb9f3a"
             ],
             [
              0.8888888888888888,
              "#fdca26"
             ],
             [
              1,
              "#f0f921"
             ]
            ],
            "type": "contour"
           }
          ],
          "contourcarpet": [
           {
            "colorbar": {
             "outlinewidth": 0,
             "ticks": ""
            },
            "type": "contourcarpet"
           }
          ],
          "heatmap": [
           {
            "colorbar": {
             "outlinewidth": 0,
             "ticks": ""
            },
            "colorscale": [
             [
              0,
              "#0d0887"
             ],
             [
              0.1111111111111111,
              "#46039f"
             ],
             [
              0.2222222222222222,
              "#7201a8"
             ],
             [
              0.3333333333333333,
              "#9c179e"
             ],
             [
              0.4444444444444444,
              "#bd3786"
             ],
             [
              0.5555555555555556,
              "#d8576b"
             ],
             [
              0.6666666666666666,
              "#ed7953"
             ],
             [
              0.7777777777777778,
              "#fb9f3a"
             ],
             [
              0.8888888888888888,
              "#fdca26"
             ],
             [
              1,
              "#f0f921"
             ]
            ],
            "type": "heatmap"
           }
          ],
          "heatmapgl": [
           {
            "colorbar": {
             "outlinewidth": 0,
             "ticks": ""
            },
            "colorscale": [
             [
              0,
              "#0d0887"
             ],
             [
              0.1111111111111111,
              "#46039f"
             ],
             [
              0.2222222222222222,
              "#7201a8"
             ],
             [
              0.3333333333333333,
              "#9c179e"
             ],
             [
              0.4444444444444444,
              "#bd3786"
             ],
             [
              0.5555555555555556,
              "#d8576b"
             ],
             [
              0.6666666666666666,
              "#ed7953"
             ],
             [
              0.7777777777777778,
              "#fb9f3a"
             ],
             [
              0.8888888888888888,
              "#fdca26"
             ],
             [
              1,
              "#f0f921"
             ]
            ],
            "type": "heatmapgl"
           }
          ],
          "histogram": [
           {
            "marker": {
             "pattern": {
              "fillmode": "overlay",
              "size": 10,
              "solidity": 0.2
             }
            },
            "type": "histogram"
           }
          ],
          "histogram2d": [
           {
            "colorbar": {
             "outlinewidth": 0,
             "ticks": ""
            },
            "colorscale": [
             [
              0,
              "#0d0887"
             ],
             [
              0.1111111111111111,
              "#46039f"
             ],
             [
              0.2222222222222222,
              "#7201a8"
             ],
             [
              0.3333333333333333,
              "#9c179e"
             ],
             [
              0.4444444444444444,
              "#bd3786"
             ],
             [
              0.5555555555555556,
              "#d8576b"
             ],
             [
              0.6666666666666666,
              "#ed7953"
             ],
             [
              0.7777777777777778,
              "#fb9f3a"
             ],
             [
              0.8888888888888888,
              "#fdca26"
             ],
             [
              1,
              "#f0f921"
             ]
            ],
            "type": "histogram2d"
           }
          ],
          "histogram2dcontour": [
           {
            "colorbar": {
             "outlinewidth": 0,
             "ticks": ""
            },
            "colorscale": [
             [
              0,
              "#0d0887"
             ],
             [
              0.1111111111111111,
              "#46039f"
             ],
             [
              0.2222222222222222,
              "#7201a8"
             ],
             [
              0.3333333333333333,
              "#9c179e"
             ],
             [
              0.4444444444444444,
              "#bd3786"
             ],
             [
              0.5555555555555556,
              "#d8576b"
             ],
             [
              0.6666666666666666,
              "#ed7953"
             ],
             [
              0.7777777777777778,
              "#fb9f3a"
             ],
             [
              0.8888888888888888,
              "#fdca26"
             ],
             [
              1,
              "#f0f921"
             ]
            ],
            "type": "histogram2dcontour"
           }
          ],
          "mesh3d": [
           {
            "colorbar": {
             "outlinewidth": 0,
             "ticks": ""
            },
            "type": "mesh3d"
           }
          ],
          "parcoords": [
           {
            "line": {
             "colorbar": {
              "outlinewidth": 0,
              "ticks": ""
             }
            },
            "type": "parcoords"
           }
          ],
          "pie": [
           {
            "automargin": true,
            "type": "pie"
           }
          ],
          "scatter": [
           {
            "marker": {
             "colorbar": {
              "outlinewidth": 0,
              "ticks": ""
             }
            },
            "type": "scatter"
           }
          ],
          "scatter3d": [
           {
            "line": {
             "colorbar": {
              "outlinewidth": 0,
              "ticks": ""
             }
            },
            "marker": {
             "colorbar": {
              "outlinewidth": 0,
              "ticks": ""
             }
            },
            "type": "scatter3d"
           }
          ],
          "scattercarpet": [
           {
            "marker": {
             "colorbar": {
              "outlinewidth": 0,
              "ticks": ""
             }
            },
            "type": "scattercarpet"
           }
          ],
          "scattergeo": [
           {
            "marker": {
             "colorbar": {
              "outlinewidth": 0,
              "ticks": ""
             }
            },
            "type": "scattergeo"
           }
          ],
          "scattergl": [
           {
            "marker": {
             "colorbar": {
              "outlinewidth": 0,
              "ticks": ""
             }
            },
            "type": "scattergl"
           }
          ],
          "scattermapbox": [
           {
            "marker": {
             "colorbar": {
              "outlinewidth": 0,
              "ticks": ""
             }
            },
            "type": "scattermapbox"
           }
          ],
          "scatterpolar": [
           {
            "marker": {
             "colorbar": {
              "outlinewidth": 0,
              "ticks": ""
             }
            },
            "type": "scatterpolar"
           }
          ],
          "scatterpolargl": [
           {
            "marker": {
             "colorbar": {
              "outlinewidth": 0,
              "ticks": ""
             }
            },
            "type": "scatterpolargl"
           }
          ],
          "scatterternary": [
           {
            "marker": {
             "colorbar": {
              "outlinewidth": 0,
              "ticks": ""
             }
            },
            "type": "scatterternary"
           }
          ],
          "surface": [
           {
            "colorbar": {
             "outlinewidth": 0,
             "ticks": ""
            },
            "colorscale": [
             [
              0,
              "#0d0887"
             ],
             [
              0.1111111111111111,
              "#46039f"
             ],
             [
              0.2222222222222222,
              "#7201a8"
             ],
             [
              0.3333333333333333,
              "#9c179e"
             ],
             [
              0.4444444444444444,
              "#bd3786"
             ],
             [
              0.5555555555555556,
              "#d8576b"
             ],
             [
              0.6666666666666666,
              "#ed7953"
             ],
             [
              0.7777777777777778,
              "#fb9f3a"
             ],
             [
              0.8888888888888888,
              "#fdca26"
             ],
             [
              1,
              "#f0f921"
             ]
            ],
            "type": "surface"
           }
          ],
          "table": [
           {
            "cells": {
             "fill": {
              "color": "#EBF0F8"
             },
             "line": {
              "color": "white"
             }
            },
            "header": {
             "fill": {
              "color": "#C8D4E3"
             },
             "line": {
              "color": "white"
             }
            },
            "type": "table"
           }
          ]
         },
         "layout": {
          "annotationdefaults": {
           "arrowcolor": "#2a3f5f",
           "arrowhead": 0,
           "arrowwidth": 1
          },
          "autotypenumbers": "strict",
          "coloraxis": {
           "colorbar": {
            "outlinewidth": 0,
            "ticks": ""
           }
          },
          "colorscale": {
           "diverging": [
            [
             0,
             "#8e0152"
            ],
            [
             0.1,
             "#c51b7d"
            ],
            [
             0.2,
             "#de77ae"
            ],
            [
             0.3,
             "#f1b6da"
            ],
            [
             0.4,
             "#fde0ef"
            ],
            [
             0.5,
             "#f7f7f7"
            ],
            [
             0.6,
             "#e6f5d0"
            ],
            [
             0.7,
             "#b8e186"
            ],
            [
             0.8,
             "#7fbc41"
            ],
            [
             0.9,
             "#4d9221"
            ],
            [
             1,
             "#276419"
            ]
           ],
           "sequential": [
            [
             0,
             "#0d0887"
            ],
            [
             0.1111111111111111,
             "#46039f"
            ],
            [
             0.2222222222222222,
             "#7201a8"
            ],
            [
             0.3333333333333333,
             "#9c179e"
            ],
            [
             0.4444444444444444,
             "#bd3786"
            ],
            [
             0.5555555555555556,
             "#d8576b"
            ],
            [
             0.6666666666666666,
             "#ed7953"
            ],
            [
             0.7777777777777778,
             "#fb9f3a"
            ],
            [
             0.8888888888888888,
             "#fdca26"
            ],
            [
             1,
             "#f0f921"
            ]
           ],
           "sequentialminus": [
            [
             0,
             "#0d0887"
            ],
            [
             0.1111111111111111,
             "#46039f"
            ],
            [
             0.2222222222222222,
             "#7201a8"
            ],
            [
             0.3333333333333333,
             "#9c179e"
            ],
            [
             0.4444444444444444,
             "#bd3786"
            ],
            [
             0.5555555555555556,
             "#d8576b"
            ],
            [
             0.6666666666666666,
             "#ed7953"
            ],
            [
             0.7777777777777778,
             "#fb9f3a"
            ],
            [
             0.8888888888888888,
             "#fdca26"
            ],
            [
             1,
             "#f0f921"
            ]
           ]
          },
          "colorway": [
           "#636efa",
           "#EF553B",
           "#00cc96",
           "#ab63fa",
           "#FFA15A",
           "#19d3f3",
           "#FF6692",
           "#B6E880",
           "#FF97FF",
           "#FECB52"
          ],
          "font": {
           "color": "#2a3f5f"
          },
          "geo": {
           "bgcolor": "white",
           "lakecolor": "white",
           "landcolor": "#E5ECF6",
           "showlakes": true,
           "showland": true,
           "subunitcolor": "white"
          },
          "hoverlabel": {
           "align": "left"
          },
          "hovermode": "closest",
          "mapbox": {
           "style": "light"
          },
          "paper_bgcolor": "white",
          "plot_bgcolor": "#E5ECF6",
          "polar": {
           "angularaxis": {
            "gridcolor": "white",
            "linecolor": "white",
            "ticks": ""
           },
           "bgcolor": "#E5ECF6",
           "radialaxis": {
            "gridcolor": "white",
            "linecolor": "white",
            "ticks": ""
           }
          },
          "scene": {
           "xaxis": {
            "backgroundcolor": "#E5ECF6",
            "gridcolor": "white",
            "gridwidth": 2,
            "linecolor": "white",
            "showbackground": true,
            "ticks": "",
            "zerolinecolor": "white"
           },
           "yaxis": {
            "backgroundcolor": "#E5ECF6",
            "gridcolor": "white",
            "gridwidth": 2,
            "linecolor": "white",
            "showbackground": true,
            "ticks": "",
            "zerolinecolor": "white"
           },
           "zaxis": {
            "backgroundcolor": "#E5ECF6",
            "gridcolor": "white",
            "gridwidth": 2,
            "linecolor": "white",
            "showbackground": true,
            "ticks": "",
            "zerolinecolor": "white"
           }
          },
          "shapedefaults": {
           "line": {
            "color": "#2a3f5f"
           }
          },
          "ternary": {
           "aaxis": {
            "gridcolor": "white",
            "linecolor": "white",
            "ticks": ""
           },
           "baxis": {
            "gridcolor": "white",
            "linecolor": "white",
            "ticks": ""
           },
           "bgcolor": "#E5ECF6",
           "caxis": {
            "gridcolor": "white",
            "linecolor": "white",
            "ticks": ""
           }
          },
          "title": {
           "x": 0.05
          },
          "xaxis": {
           "automargin": true,
           "gridcolor": "white",
           "linecolor": "white",
           "ticks": "",
           "title": {
            "standoff": 15
           },
           "zerolinecolor": "white",
           "zerolinewidth": 2
          },
          "yaxis": {
           "automargin": true,
           "gridcolor": "white",
           "linecolor": "white",
           "ticks": "",
           "title": {
            "standoff": 15
           },
           "zerolinecolor": "white",
           "zerolinewidth": 2
          }
         }
        },
        "title": {
         "text": "Global Classification Matrix"
        },
        "width": 500
       }
      }
     },
     "metadata": {},
     "output_type": "display_data"
    }
   ],
   "source": [
    "fig=go.Figure()\n",
    "for i in range(len(cm_global)):\n",
    "    fig.add_trace(go.Scatterpolar(\n",
    "        r=[cm_global[i][0,1], cm_global[i][1,1], cm_global[i][1,0], cm_global[i][0,0], cm_global[i][0,1]],\n",
    "        theta=categories,\n",
    "        marker = dict(color=colors[i]),\n",
    "        fill='toself',\n",
    "        legendgroup=names[i],\n",
    "        subplot = \"polar1\",\n",
    "        name=names[i],\n",
    "        fillcolor=colorsfill[i])\n",
    "    )\n",
    "fig.update_layout(height=500, width=500, title='Global Classification Matrix',\n",
    "polar=dict(\n",
    "    radialaxis=dict(\n",
    "    visible=True,\n",
    "    range=[0, 7300]),\n",
    "    angularaxis=dict(\n",
    "    rotation= 45,\n",
    "    direction='clockwise')\n",
    "    ))\n",
    "fig.show()"
   ]
  },
  {
   "cell_type": "code",
   "execution_count": 268,
   "metadata": {},
   "outputs": [
    {
     "name": "stdout",
     "output_type": "stream",
     "text": [
      "[[702 118]\n",
      " [123 697]]\n"
     ]
    }
   ],
   "source": [
    "print(cm_forest_Cyclic)"
   ]
  },
  {
   "cell_type": "code",
   "execution_count": 250,
   "metadata": {},
   "outputs": [
    {
     "data": {
      "application/vnd.plotly.v1+json": {
       "config": {
        "plotlyServerURL": "https://plot.ly"
       },
       "data": [
        {
         "branchvalues": "total",
         "labels": [
          "Total Stratified",
          "Total P",
          "Total N",
          "TP",
          "FP",
          "TN",
          "FN",
          "WE TP",
          "WE FP",
          "WE TN",
          "WE FN",
          "Nelson TP",
          "Nelson FP",
          "Nelson TN",
          "Nelson FN",
          "iforest TP",
          "iforest FP",
          "iforest TN",
          "iforest FN",
          "SVM3 TP",
          "SVM3 FP",
          "SVM3 TN",
          "SVM3 FN"
         ],
         "parents": [
          "",
          "Total Stratified",
          "Total Stratified",
          "Total P",
          "Total P",
          "Total N",
          "Total N",
          "TP",
          "FP",
          "TN",
          "FN",
          "TP",
          "FP",
          "TN",
          "FN",
          "TP",
          "FP",
          "TN",
          "FN",
          "TP",
          "FP",
          "TN",
          "FN",
          "TP",
          "FP",
          "TN",
          "FN"
         ],
         "root": {
          "color": "lightgrey"
         },
         "textinfo": "label+value",
         "type": "treemap",
         "values": [
          6560,
          3280,
          3280,
          1835,
          1445,
          2757,
          523,
          284,
          536,
          680,
          140,
          547,
          273,
          584,
          236,
          523,
          297,
          703,
          117,
          481,
          339,
          790,
          30
         ]
        }
       ],
       "layout": {
        "margin": {
         "b": 25,
         "l": 25,
         "r": 25,
         "t": 25
        },
        "template": {
         "data": {
          "bar": [
           {
            "error_x": {
             "color": "#2a3f5f"
            },
            "error_y": {
             "color": "#2a3f5f"
            },
            "marker": {
             "line": {
              "color": "#E5ECF6",
              "width": 0.5
             },
             "pattern": {
              "fillmode": "overlay",
              "size": 10,
              "solidity": 0.2
             }
            },
            "type": "bar"
           }
          ],
          "barpolar": [
           {
            "marker": {
             "line": {
              "color": "#E5ECF6",
              "width": 0.5
             },
             "pattern": {
              "fillmode": "overlay",
              "size": 10,
              "solidity": 0.2
             }
            },
            "type": "barpolar"
           }
          ],
          "carpet": [
           {
            "aaxis": {
             "endlinecolor": "#2a3f5f",
             "gridcolor": "white",
             "linecolor": "white",
             "minorgridcolor": "white",
             "startlinecolor": "#2a3f5f"
            },
            "baxis": {
             "endlinecolor": "#2a3f5f",
             "gridcolor": "white",
             "linecolor": "white",
             "minorgridcolor": "white",
             "startlinecolor": "#2a3f5f"
            },
            "type": "carpet"
           }
          ],
          "choropleth": [
           {
            "colorbar": {
             "outlinewidth": 0,
             "ticks": ""
            },
            "type": "choropleth"
           }
          ],
          "contour": [
           {
            "colorbar": {
             "outlinewidth": 0,
             "ticks": ""
            },
            "colorscale": [
             [
              0,
              "#0d0887"
             ],
             [
              0.1111111111111111,
              "#46039f"
             ],
             [
              0.2222222222222222,
              "#7201a8"
             ],
             [
              0.3333333333333333,
              "#9c179e"
             ],
             [
              0.4444444444444444,
              "#bd3786"
             ],
             [
              0.5555555555555556,
              "#d8576b"
             ],
             [
              0.6666666666666666,
              "#ed7953"
             ],
             [
              0.7777777777777778,
              "#fb9f3a"
             ],
             [
              0.8888888888888888,
              "#fdca26"
             ],
             [
              1,
              "#f0f921"
             ]
            ],
            "type": "contour"
           }
          ],
          "contourcarpet": [
           {
            "colorbar": {
             "outlinewidth": 0,
             "ticks": ""
            },
            "type": "contourcarpet"
           }
          ],
          "heatmap": [
           {
            "colorbar": {
             "outlinewidth": 0,
             "ticks": ""
            },
            "colorscale": [
             [
              0,
              "#0d0887"
             ],
             [
              0.1111111111111111,
              "#46039f"
             ],
             [
              0.2222222222222222,
              "#7201a8"
             ],
             [
              0.3333333333333333,
              "#9c179e"
             ],
             [
              0.4444444444444444,
              "#bd3786"
             ],
             [
              0.5555555555555556,
              "#d8576b"
             ],
             [
              0.6666666666666666,
              "#ed7953"
             ],
             [
              0.7777777777777778,
              "#fb9f3a"
             ],
             [
              0.8888888888888888,
              "#fdca26"
             ],
             [
              1,
              "#f0f921"
             ]
            ],
            "type": "heatmap"
           }
          ],
          "heatmapgl": [
           {
            "colorbar": {
             "outlinewidth": 0,
             "ticks": ""
            },
            "colorscale": [
             [
              0,
              "#0d0887"
             ],
             [
              0.1111111111111111,
              "#46039f"
             ],
             [
              0.2222222222222222,
              "#7201a8"
             ],
             [
              0.3333333333333333,
              "#9c179e"
             ],
             [
              0.4444444444444444,
              "#bd3786"
             ],
             [
              0.5555555555555556,
              "#d8576b"
             ],
             [
              0.6666666666666666,
              "#ed7953"
             ],
             [
              0.7777777777777778,
              "#fb9f3a"
             ],
             [
              0.8888888888888888,
              "#fdca26"
             ],
             [
              1,
              "#f0f921"
             ]
            ],
            "type": "heatmapgl"
           }
          ],
          "histogram": [
           {
            "marker": {
             "pattern": {
              "fillmode": "overlay",
              "size": 10,
              "solidity": 0.2
             }
            },
            "type": "histogram"
           }
          ],
          "histogram2d": [
           {
            "colorbar": {
             "outlinewidth": 0,
             "ticks": ""
            },
            "colorscale": [
             [
              0,
              "#0d0887"
             ],
             [
              0.1111111111111111,
              "#46039f"
             ],
             [
              0.2222222222222222,
              "#7201a8"
             ],
             [
              0.3333333333333333,
              "#9c179e"
             ],
             [
              0.4444444444444444,
              "#bd3786"
             ],
             [
              0.5555555555555556,
              "#d8576b"
             ],
             [
              0.6666666666666666,
              "#ed7953"
             ],
             [
              0.7777777777777778,
              "#fb9f3a"
             ],
             [
              0.8888888888888888,
              "#fdca26"
             ],
             [
              1,
              "#f0f921"
             ]
            ],
            "type": "histogram2d"
           }
          ],
          "histogram2dcontour": [
           {
            "colorbar": {
             "outlinewidth": 0,
             "ticks": ""
            },
            "colorscale": [
             [
              0,
              "#0d0887"
             ],
             [
              0.1111111111111111,
              "#46039f"
             ],
             [
              0.2222222222222222,
              "#7201a8"
             ],
             [
              0.3333333333333333,
              "#9c179e"
             ],
             [
              0.4444444444444444,
              "#bd3786"
             ],
             [
              0.5555555555555556,
              "#d8576b"
             ],
             [
              0.6666666666666666,
              "#ed7953"
             ],
             [
              0.7777777777777778,
              "#fb9f3a"
             ],
             [
              0.8888888888888888,
              "#fdca26"
             ],
             [
              1,
              "#f0f921"
             ]
            ],
            "type": "histogram2dcontour"
           }
          ],
          "mesh3d": [
           {
            "colorbar": {
             "outlinewidth": 0,
             "ticks": ""
            },
            "type": "mesh3d"
           }
          ],
          "parcoords": [
           {
            "line": {
             "colorbar": {
              "outlinewidth": 0,
              "ticks": ""
             }
            },
            "type": "parcoords"
           }
          ],
          "pie": [
           {
            "automargin": true,
            "type": "pie"
           }
          ],
          "scatter": [
           {
            "marker": {
             "colorbar": {
              "outlinewidth": 0,
              "ticks": ""
             }
            },
            "type": "scatter"
           }
          ],
          "scatter3d": [
           {
            "line": {
             "colorbar": {
              "outlinewidth": 0,
              "ticks": ""
             }
            },
            "marker": {
             "colorbar": {
              "outlinewidth": 0,
              "ticks": ""
             }
            },
            "type": "scatter3d"
           }
          ],
          "scattercarpet": [
           {
            "marker": {
             "colorbar": {
              "outlinewidth": 0,
              "ticks": ""
             }
            },
            "type": "scattercarpet"
           }
          ],
          "scattergeo": [
           {
            "marker": {
             "colorbar": {
              "outlinewidth": 0,
              "ticks": ""
             }
            },
            "type": "scattergeo"
           }
          ],
          "scattergl": [
           {
            "marker": {
             "colorbar": {
              "outlinewidth": 0,
              "ticks": ""
             }
            },
            "type": "scattergl"
           }
          ],
          "scattermapbox": [
           {
            "marker": {
             "colorbar": {
              "outlinewidth": 0,
              "ticks": ""
             }
            },
            "type": "scattermapbox"
           }
          ],
          "scatterpolar": [
           {
            "marker": {
             "colorbar": {
              "outlinewidth": 0,
              "ticks": ""
             }
            },
            "type": "scatterpolar"
           }
          ],
          "scatterpolargl": [
           {
            "marker": {
             "colorbar": {
              "outlinewidth": 0,
              "ticks": ""
             }
            },
            "type": "scatterpolargl"
           }
          ],
          "scatterternary": [
           {
            "marker": {
             "colorbar": {
              "outlinewidth": 0,
              "ticks": ""
             }
            },
            "type": "scatterternary"
           }
          ],
          "surface": [
           {
            "colorbar": {
             "outlinewidth": 0,
             "ticks": ""
            },
            "colorscale": [
             [
              0,
              "#0d0887"
             ],
             [
              0.1111111111111111,
              "#46039f"
             ],
             [
              0.2222222222222222,
              "#7201a8"
             ],
             [
              0.3333333333333333,
              "#9c179e"
             ],
             [
              0.4444444444444444,
              "#bd3786"
             ],
             [
              0.5555555555555556,
              "#d8576b"
             ],
             [
              0.6666666666666666,
              "#ed7953"
             ],
             [
              0.7777777777777778,
              "#fb9f3a"
             ],
             [
              0.8888888888888888,
              "#fdca26"
             ],
             [
              1,
              "#f0f921"
             ]
            ],
            "type": "surface"
           }
          ],
          "table": [
           {
            "cells": {
             "fill": {
              "color": "#EBF0F8"
             },
             "line": {
              "color": "white"
             }
            },
            "header": {
             "fill": {
              "color": "#C8D4E3"
             },
             "line": {
              "color": "white"
             }
            },
            "type": "table"
           }
          ]
         },
         "layout": {
          "annotationdefaults": {
           "arrowcolor": "#2a3f5f",
           "arrowhead": 0,
           "arrowwidth": 1
          },
          "autotypenumbers": "strict",
          "coloraxis": {
           "colorbar": {
            "outlinewidth": 0,
            "ticks": ""
           }
          },
          "colorscale": {
           "diverging": [
            [
             0,
             "#8e0152"
            ],
            [
             0.1,
             "#c51b7d"
            ],
            [
             0.2,
             "#de77ae"
            ],
            [
             0.3,
             "#f1b6da"
            ],
            [
             0.4,
             "#fde0ef"
            ],
            [
             0.5,
             "#f7f7f7"
            ],
            [
             0.6,
             "#e6f5d0"
            ],
            [
             0.7,
             "#b8e186"
            ],
            [
             0.8,
             "#7fbc41"
            ],
            [
             0.9,
             "#4d9221"
            ],
            [
             1,
             "#276419"
            ]
           ],
           "sequential": [
            [
             0,
             "#0d0887"
            ],
            [
             0.1111111111111111,
             "#46039f"
            ],
            [
             0.2222222222222222,
             "#7201a8"
            ],
            [
             0.3333333333333333,
             "#9c179e"
            ],
            [
             0.4444444444444444,
             "#bd3786"
            ],
            [
             0.5555555555555556,
             "#d8576b"
            ],
            [
             0.6666666666666666,
             "#ed7953"
            ],
            [
             0.7777777777777778,
             "#fb9f3a"
            ],
            [
             0.8888888888888888,
             "#fdca26"
            ],
            [
             1,
             "#f0f921"
            ]
           ],
           "sequentialminus": [
            [
             0,
             "#0d0887"
            ],
            [
             0.1111111111111111,
             "#46039f"
            ],
            [
             0.2222222222222222,
             "#7201a8"
            ],
            [
             0.3333333333333333,
             "#9c179e"
            ],
            [
             0.4444444444444444,
             "#bd3786"
            ],
            [
             0.5555555555555556,
             "#d8576b"
            ],
            [
             0.6666666666666666,
             "#ed7953"
            ],
            [
             0.7777777777777778,
             "#fb9f3a"
            ],
            [
             0.8888888888888888,
             "#fdca26"
            ],
            [
             1,
             "#f0f921"
            ]
           ]
          },
          "colorway": [
           "#636efa",
           "#EF553B",
           "#00cc96",
           "#ab63fa",
           "#FFA15A",
           "#19d3f3",
           "#FF6692",
           "#B6E880",
           "#FF97FF",
           "#FECB52"
          ],
          "font": {
           "color": "#2a3f5f"
          },
          "geo": {
           "bgcolor": "white",
           "lakecolor": "white",
           "landcolor": "#E5ECF6",
           "showlakes": true,
           "showland": true,
           "subunitcolor": "white"
          },
          "hoverlabel": {
           "align": "left"
          },
          "hovermode": "closest",
          "mapbox": {
           "style": "light"
          },
          "paper_bgcolor": "white",
          "plot_bgcolor": "#E5ECF6",
          "polar": {
           "angularaxis": {
            "gridcolor": "white",
            "linecolor": "white",
            "ticks": ""
           },
           "bgcolor": "#E5ECF6",
           "radialaxis": {
            "gridcolor": "white",
            "linecolor": "white",
            "ticks": ""
           }
          },
          "scene": {
           "xaxis": {
            "backgroundcolor": "#E5ECF6",
            "gridcolor": "white",
            "gridwidth": 2,
            "linecolor": "white",
            "showbackground": true,
            "ticks": "",
            "zerolinecolor": "white"
           },
           "yaxis": {
            "backgroundcolor": "#E5ECF6",
            "gridcolor": "white",
            "gridwidth": 2,
            "linecolor": "white",
            "showbackground": true,
            "ticks": "",
            "zerolinecolor": "white"
           },
           "zaxis": {
            "backgroundcolor": "#E5ECF6",
            "gridcolor": "white",
            "gridwidth": 2,
            "linecolor": "white",
            "showbackground": true,
            "ticks": "",
            "zerolinecolor": "white"
           }
          },
          "shapedefaults": {
           "line": {
            "color": "#2a3f5f"
           }
          },
          "ternary": {
           "aaxis": {
            "gridcolor": "white",
            "linecolor": "white",
            "ticks": ""
           },
           "baxis": {
            "gridcolor": "white",
            "linecolor": "white",
            "ticks": ""
           },
           "bgcolor": "#E5ECF6",
           "caxis": {
            "gridcolor": "white",
            "linecolor": "white",
            "ticks": ""
           }
          },
          "title": {
           "x": 0.05
          },
          "xaxis": {
           "automargin": true,
           "gridcolor": "white",
           "linecolor": "white",
           "ticks": "",
           "title": {
            "standoff": 15
           },
           "zerolinecolor": "white",
           "zerolinewidth": 2
          },
          "yaxis": {
           "automargin": true,
           "gridcolor": "white",
           "linecolor": "white",
           "ticks": "",
           "title": {
            "standoff": 15
           },
           "zerolinecolor": "white",
           "zerolinewidth": 2
          }
         }
        }
       }
      }
     },
     "metadata": {},
     "output_type": "display_data"
    }
   ],
   "source": [
    "fig2 = go.Figure(go.Treemap(\n",
    "    labels = [\"Total Stratified\"\n",
    "    ,\"Total P\",\"Total N\"\n",
    "    ,'TP', 'FP', 'TN', 'FN'\n",
    "    ,\"WE TP\",\"WE FP\", \"WE TN\", \"WE FN\"\n",
    "    ,\"Nelson TP\",\"Nelson FP\", \"Nelson TN\", \"Nelson FN\"\n",
    "    ,\"iforest TP\",\"iforest FP\", \"iforest TN\", \"iforest FN\"\n",
    "    ,\"SVM3 TP\",\"SVM3 FP\", \"SVM3 TN\", \"SVM3 FN\"],\n",
    "    parents = [\"\"\n",
    "    ,\"Total Stratified\",\"Total Stratified\"\n",
    "    ,\"Total P\",\"Total P\", \"Total N\", \"Total N\"\n",
    "    ,'TP', 'FP', 'TN', 'FN'\n",
    "    ,'TP', 'FP', 'TN', 'FN'\n",
    "    ,'TP', 'FP', 'TN', 'FN'\n",
    "    ,'TP', 'FP', 'TN', 'FN'\n",
    "    ,'TP', 'FP', 'TN', 'FN'],\n",
    "    root_color=\"lightgrey\",\n",
    "    values=[np.sum(cm_perfect_normal)*4, \n",
    "    cm_perfect_Stratified[1,1]*4, cm_perfect_Stratified[0,0]*4,\n",
    "    np.sum([cm_Stratified[0][1,1], cm_Stratified[1][1,1], cm_Stratified[2][1,1], cm_Stratified[3][1,1]]),\n",
    "    np.sum([cm_Stratified[0][1,0], cm_Stratified[1][1,0], cm_Stratified[2][1,0], cm_Stratified[3][1,0]]),\n",
    "    np.sum([cm_Stratified[0][0,0],  cm_Stratified[1][0,0], cm_Stratified[2][0,0], cm_Stratified[3][0,0]]),\n",
    "    np.sum([cm_Stratified[0][0,1], cm_Stratified[1][0,1], cm_Stratified[2][0,1], cm_Stratified[3][0,1]]),\n",
    "    cm_Stratified[0][1,1], cm_Stratified[0][1,0], cm_Stratified[0][0,0], cm_Stratified[0][0,1],\n",
    "    cm_Stratified[1][1,1], cm_Stratified[1][1,0], cm_Stratified[1][0,0], cm_Stratified[1][0,1],\n",
    "    cm_Stratified[2][1,1], cm_Stratified[2][1,0], cm_Stratified[2][0,0], cm_Stratified[2][0,1],\n",
    "    cm_Stratified[3][1,1], cm_Stratified[3][1,0], cm_Stratified[3][0,0], cm_Stratified[3][0,1]],\n",
    "    textinfo = \"label+value\",\n",
    "    branchvalues='total'\n",
    "))\n",
    "\n",
    "fig2.update_layout(margin = dict(t=25, l=25, r=25, b=25))\n",
    "fig2.show()\n"
   ]
  },
  {
   "cell_type": "code",
   "execution_count": 251,
   "metadata": {},
   "outputs": [
    {
     "data": {
      "application/vnd.plotly.v1+json": {
       "config": {
        "plotlyServerURL": "https://plot.ly"
       },
       "data": [
        {
         "branchvalues": "total",
         "labels": [
          "Total Systematic WE",
          "Total Systematic Nelson",
          "Total Systematic iforest",
          "Total Systematic SVM",
          "Total P WE",
          "Total N WE",
          "Total P Nelson",
          "Total N Nelson",
          "Total P iforest",
          "Total N iforest",
          "Total P SVM",
          "Total N SVM",
          "WE TP",
          "WE FP",
          "WE TN",
          "WE FN",
          "Nelson TP",
          "Nelson FP",
          "Nelson TN",
          "Nelson FN",
          "iforest TP",
          "iforest FP",
          "iforest TN",
          "iforest FN",
          "SVM TP",
          "SVM FP",
          "SVM TN",
          "SVM FN"
         ],
         "parents": [
          "",
          "",
          "",
          "",
          "Total Systematic WE",
          "Total Systematic WE",
          "Total Systematic Nelson",
          "Total Systematic Nelson",
          "Total Systematic iforest",
          "Total Systematic iforest",
          "Total Systematic SVM",
          "Total Systematic SVM",
          "Total P WE",
          "Total P WE",
          "Total N WE",
          "Total N WE",
          "Total P Nelson",
          "Total P Nelson",
          "Total N Nelson",
          "Total N Nelson",
          "Total P iforest",
          "Total P iforest",
          "Total N iforest",
          "Total N iforest",
          "Total P SVM",
          "Total P SVM",
          "Total N SVM",
          "Total N SVM"
         ],
         "root": {
          "color": "lightgrey"
         },
         "textinfo": "label+value+percent parent",
         "type": "treemap",
         "values": [
          1640,
          1640,
          1640,
          1640,
          820,
          820,
          820,
          820,
          820,
          820,
          820,
          820,
          772,
          48,
          481,
          339,
          775,
          45,
          471,
          349,
          757,
          63,
          725,
          95,
          668,
          152,
          808,
          12
         ]
        }
       ],
       "layout": {
        "margin": {
         "b": 25,
         "l": 25,
         "r": 25,
         "t": 25
        },
        "template": {
         "data": {
          "bar": [
           {
            "error_x": {
             "color": "#2a3f5f"
            },
            "error_y": {
             "color": "#2a3f5f"
            },
            "marker": {
             "line": {
              "color": "#E5ECF6",
              "width": 0.5
             },
             "pattern": {
              "fillmode": "overlay",
              "size": 10,
              "solidity": 0.2
             }
            },
            "type": "bar"
           }
          ],
          "barpolar": [
           {
            "marker": {
             "line": {
              "color": "#E5ECF6",
              "width": 0.5
             },
             "pattern": {
              "fillmode": "overlay",
              "size": 10,
              "solidity": 0.2
             }
            },
            "type": "barpolar"
           }
          ],
          "carpet": [
           {
            "aaxis": {
             "endlinecolor": "#2a3f5f",
             "gridcolor": "white",
             "linecolor": "white",
             "minorgridcolor": "white",
             "startlinecolor": "#2a3f5f"
            },
            "baxis": {
             "endlinecolor": "#2a3f5f",
             "gridcolor": "white",
             "linecolor": "white",
             "minorgridcolor": "white",
             "startlinecolor": "#2a3f5f"
            },
            "type": "carpet"
           }
          ],
          "choropleth": [
           {
            "colorbar": {
             "outlinewidth": 0,
             "ticks": ""
            },
            "type": "choropleth"
           }
          ],
          "contour": [
           {
            "colorbar": {
             "outlinewidth": 0,
             "ticks": ""
            },
            "colorscale": [
             [
              0,
              "#0d0887"
             ],
             [
              0.1111111111111111,
              "#46039f"
             ],
             [
              0.2222222222222222,
              "#7201a8"
             ],
             [
              0.3333333333333333,
              "#9c179e"
             ],
             [
              0.4444444444444444,
              "#bd3786"
             ],
             [
              0.5555555555555556,
              "#d8576b"
             ],
             [
              0.6666666666666666,
              "#ed7953"
             ],
             [
              0.7777777777777778,
              "#fb9f3a"
             ],
             [
              0.8888888888888888,
              "#fdca26"
             ],
             [
              1,
              "#f0f921"
             ]
            ],
            "type": "contour"
           }
          ],
          "contourcarpet": [
           {
            "colorbar": {
             "outlinewidth": 0,
             "ticks": ""
            },
            "type": "contourcarpet"
           }
          ],
          "heatmap": [
           {
            "colorbar": {
             "outlinewidth": 0,
             "ticks": ""
            },
            "colorscale": [
             [
              0,
              "#0d0887"
             ],
             [
              0.1111111111111111,
              "#46039f"
             ],
             [
              0.2222222222222222,
              "#7201a8"
             ],
             [
              0.3333333333333333,
              "#9c179e"
             ],
             [
              0.4444444444444444,
              "#bd3786"
             ],
             [
              0.5555555555555556,
              "#d8576b"
             ],
             [
              0.6666666666666666,
              "#ed7953"
             ],
             [
              0.7777777777777778,
              "#fb9f3a"
             ],
             [
              0.8888888888888888,
              "#fdca26"
             ],
             [
              1,
              "#f0f921"
             ]
            ],
            "type": "heatmap"
           }
          ],
          "heatmapgl": [
           {
            "colorbar": {
             "outlinewidth": 0,
             "ticks": ""
            },
            "colorscale": [
             [
              0,
              "#0d0887"
             ],
             [
              0.1111111111111111,
              "#46039f"
             ],
             [
              0.2222222222222222,
              "#7201a8"
             ],
             [
              0.3333333333333333,
              "#9c179e"
             ],
             [
              0.4444444444444444,
              "#bd3786"
             ],
             [
              0.5555555555555556,
              "#d8576b"
             ],
             [
              0.6666666666666666,
              "#ed7953"
             ],
             [
              0.7777777777777778,
              "#fb9f3a"
             ],
             [
              0.8888888888888888,
              "#fdca26"
             ],
             [
              1,
              "#f0f921"
             ]
            ],
            "type": "heatmapgl"
           }
          ],
          "histogram": [
           {
            "marker": {
             "pattern": {
              "fillmode": "overlay",
              "size": 10,
              "solidity": 0.2
             }
            },
            "type": "histogram"
           }
          ],
          "histogram2d": [
           {
            "colorbar": {
             "outlinewidth": 0,
             "ticks": ""
            },
            "colorscale": [
             [
              0,
              "#0d0887"
             ],
             [
              0.1111111111111111,
              "#46039f"
             ],
             [
              0.2222222222222222,
              "#7201a8"
             ],
             [
              0.3333333333333333,
              "#9c179e"
             ],
             [
              0.4444444444444444,
              "#bd3786"
             ],
             [
              0.5555555555555556,
              "#d8576b"
             ],
             [
              0.6666666666666666,
              "#ed7953"
             ],
             [
              0.7777777777777778,
              "#fb9f3a"
             ],
             [
              0.8888888888888888,
              "#fdca26"
             ],
             [
              1,
              "#f0f921"
             ]
            ],
            "type": "histogram2d"
           }
          ],
          "histogram2dcontour": [
           {
            "colorbar": {
             "outlinewidth": 0,
             "ticks": ""
            },
            "colorscale": [
             [
              0,
              "#0d0887"
             ],
             [
              0.1111111111111111,
              "#46039f"
             ],
             [
              0.2222222222222222,
              "#7201a8"
             ],
             [
              0.3333333333333333,
              "#9c179e"
             ],
             [
              0.4444444444444444,
              "#bd3786"
             ],
             [
              0.5555555555555556,
              "#d8576b"
             ],
             [
              0.6666666666666666,
              "#ed7953"
             ],
             [
              0.7777777777777778,
              "#fb9f3a"
             ],
             [
              0.8888888888888888,
              "#fdca26"
             ],
             [
              1,
              "#f0f921"
             ]
            ],
            "type": "histogram2dcontour"
           }
          ],
          "mesh3d": [
           {
            "colorbar": {
             "outlinewidth": 0,
             "ticks": ""
            },
            "type": "mesh3d"
           }
          ],
          "parcoords": [
           {
            "line": {
             "colorbar": {
              "outlinewidth": 0,
              "ticks": ""
             }
            },
            "type": "parcoords"
           }
          ],
          "pie": [
           {
            "automargin": true,
            "type": "pie"
           }
          ],
          "scatter": [
           {
            "marker": {
             "colorbar": {
              "outlinewidth": 0,
              "ticks": ""
             }
            },
            "type": "scatter"
           }
          ],
          "scatter3d": [
           {
            "line": {
             "colorbar": {
              "outlinewidth": 0,
              "ticks": ""
             }
            },
            "marker": {
             "colorbar": {
              "outlinewidth": 0,
              "ticks": ""
             }
            },
            "type": "scatter3d"
           }
          ],
          "scattercarpet": [
           {
            "marker": {
             "colorbar": {
              "outlinewidth": 0,
              "ticks": ""
             }
            },
            "type": "scattercarpet"
           }
          ],
          "scattergeo": [
           {
            "marker": {
             "colorbar": {
              "outlinewidth": 0,
              "ticks": ""
             }
            },
            "type": "scattergeo"
           }
          ],
          "scattergl": [
           {
            "marker": {
             "colorbar": {
              "outlinewidth": 0,
              "ticks": ""
             }
            },
            "type": "scattergl"
           }
          ],
          "scattermapbox": [
           {
            "marker": {
             "colorbar": {
              "outlinewidth": 0,
              "ticks": ""
             }
            },
            "type": "scattermapbox"
           }
          ],
          "scatterpolar": [
           {
            "marker": {
             "colorbar": {
              "outlinewidth": 0,
              "ticks": ""
             }
            },
            "type": "scatterpolar"
           }
          ],
          "scatterpolargl": [
           {
            "marker": {
             "colorbar": {
              "outlinewidth": 0,
              "ticks": ""
             }
            },
            "type": "scatterpolargl"
           }
          ],
          "scatterternary": [
           {
            "marker": {
             "colorbar": {
              "outlinewidth": 0,
              "ticks": ""
             }
            },
            "type": "scatterternary"
           }
          ],
          "surface": [
           {
            "colorbar": {
             "outlinewidth": 0,
             "ticks": ""
            },
            "colorscale": [
             [
              0,
              "#0d0887"
             ],
             [
              0.1111111111111111,
              "#46039f"
             ],
             [
              0.2222222222222222,
              "#7201a8"
             ],
             [
              0.3333333333333333,
              "#9c179e"
             ],
             [
              0.4444444444444444,
              "#bd3786"
             ],
             [
              0.5555555555555556,
              "#d8576b"
             ],
             [
              0.6666666666666666,
              "#ed7953"
             ],
             [
              0.7777777777777778,
              "#fb9f3a"
             ],
             [
              0.8888888888888888,
              "#fdca26"
             ],
             [
              1,
              "#f0f921"
             ]
            ],
            "type": "surface"
           }
          ],
          "table": [
           {
            "cells": {
             "fill": {
              "color": "#EBF0F8"
             },
             "line": {
              "color": "white"
             }
            },
            "header": {
             "fill": {
              "color": "#C8D4E3"
             },
             "line": {
              "color": "white"
             }
            },
            "type": "table"
           }
          ]
         },
         "layout": {
          "annotationdefaults": {
           "arrowcolor": "#2a3f5f",
           "arrowhead": 0,
           "arrowwidth": 1
          },
          "autotypenumbers": "strict",
          "coloraxis": {
           "colorbar": {
            "outlinewidth": 0,
            "ticks": ""
           }
          },
          "colorscale": {
           "diverging": [
            [
             0,
             "#8e0152"
            ],
            [
             0.1,
             "#c51b7d"
            ],
            [
             0.2,
             "#de77ae"
            ],
            [
             0.3,
             "#f1b6da"
            ],
            [
             0.4,
             "#fde0ef"
            ],
            [
             0.5,
             "#f7f7f7"
            ],
            [
             0.6,
             "#e6f5d0"
            ],
            [
             0.7,
             "#b8e186"
            ],
            [
             0.8,
             "#7fbc41"
            ],
            [
             0.9,
             "#4d9221"
            ],
            [
             1,
             "#276419"
            ]
           ],
           "sequential": [
            [
             0,
             "#0d0887"
            ],
            [
             0.1111111111111111,
             "#46039f"
            ],
            [
             0.2222222222222222,
             "#7201a8"
            ],
            [
             0.3333333333333333,
             "#9c179e"
            ],
            [
             0.4444444444444444,
             "#bd3786"
            ],
            [
             0.5555555555555556,
             "#d8576b"
            ],
            [
             0.6666666666666666,
             "#ed7953"
            ],
            [
             0.7777777777777778,
             "#fb9f3a"
            ],
            [
             0.8888888888888888,
             "#fdca26"
            ],
            [
             1,
             "#f0f921"
            ]
           ],
           "sequentialminus": [
            [
             0,
             "#0d0887"
            ],
            [
             0.1111111111111111,
             "#46039f"
            ],
            [
             0.2222222222222222,
             "#7201a8"
            ],
            [
             0.3333333333333333,
             "#9c179e"
            ],
            [
             0.4444444444444444,
             "#bd3786"
            ],
            [
             0.5555555555555556,
             "#d8576b"
            ],
            [
             0.6666666666666666,
             "#ed7953"
            ],
            [
             0.7777777777777778,
             "#fb9f3a"
            ],
            [
             0.8888888888888888,
             "#fdca26"
            ],
            [
             1,
             "#f0f921"
            ]
           ]
          },
          "colorway": [
           "#636efa",
           "#EF553B",
           "#00cc96",
           "#ab63fa",
           "#FFA15A",
           "#19d3f3",
           "#FF6692",
           "#B6E880",
           "#FF97FF",
           "#FECB52"
          ],
          "font": {
           "color": "#2a3f5f"
          },
          "geo": {
           "bgcolor": "white",
           "lakecolor": "white",
           "landcolor": "#E5ECF6",
           "showlakes": true,
           "showland": true,
           "subunitcolor": "white"
          },
          "hoverlabel": {
           "align": "left"
          },
          "hovermode": "closest",
          "mapbox": {
           "style": "light"
          },
          "paper_bgcolor": "white",
          "plot_bgcolor": "#E5ECF6",
          "polar": {
           "angularaxis": {
            "gridcolor": "white",
            "linecolor": "white",
            "ticks": ""
           },
           "bgcolor": "#E5ECF6",
           "radialaxis": {
            "gridcolor": "white",
            "linecolor": "white",
            "ticks": ""
           }
          },
          "scene": {
           "xaxis": {
            "backgroundcolor": "#E5ECF6",
            "gridcolor": "white",
            "gridwidth": 2,
            "linecolor": "white",
            "showbackground": true,
            "ticks": "",
            "zerolinecolor": "white"
           },
           "yaxis": {
            "backgroundcolor": "#E5ECF6",
            "gridcolor": "white",
            "gridwidth": 2,
            "linecolor": "white",
            "showbackground": true,
            "ticks": "",
            "zerolinecolor": "white"
           },
           "zaxis": {
            "backgroundcolor": "#E5ECF6",
            "gridcolor": "white",
            "gridwidth": 2,
            "linecolor": "white",
            "showbackground": true,
            "ticks": "",
            "zerolinecolor": "white"
           }
          },
          "shapedefaults": {
           "line": {
            "color": "#2a3f5f"
           }
          },
          "ternary": {
           "aaxis": {
            "gridcolor": "white",
            "linecolor": "white",
            "ticks": ""
           },
           "baxis": {
            "gridcolor": "white",
            "linecolor": "white",
            "ticks": ""
           },
           "bgcolor": "#E5ECF6",
           "caxis": {
            "gridcolor": "white",
            "linecolor": "white",
            "ticks": ""
           }
          },
          "title": {
           "x": 0.05
          },
          "xaxis": {
           "automargin": true,
           "gridcolor": "white",
           "linecolor": "white",
           "ticks": "",
           "title": {
            "standoff": 15
           },
           "zerolinecolor": "white",
           "zerolinewidth": 2
          },
          "yaxis": {
           "automargin": true,
           "gridcolor": "white",
           "linecolor": "white",
           "ticks": "",
           "title": {
            "standoff": 15
           },
           "zerolinecolor": "white",
           "zerolinewidth": 2
          }
         }
        }
       }
      }
     },
     "metadata": {},
     "output_type": "display_data"
    }
   ],
   "source": [
    "fig2 = go.Figure()\n",
    "fig2.add_trace(go.Treemap(\n",
    "    labels = [\"Total Systematic WE\"\n",
    "    ,\"Total Systematic Nelson\"\n",
    "    ,\"Total Systematic iforest\"\n",
    "    ,\"Total Systematic SVM\"\n",
    "    ,\"Total P WE\",\"Total N WE\"\n",
    "    ,\"Total P Nelson\",\"Total N Nelson\"\n",
    "    ,\"Total P iforest\",\"Total N iforest\"\n",
    "    ,\"Total P SVM\",\"Total N SVM\"\n",
    "    ,\"WE TP\",\"WE FP\", \"WE TN\", \"WE FN\"\n",
    "    ,\"Nelson TP\",\"Nelson FP\", \"Nelson TN\", \"Nelson FN\"\n",
    "    ,\"iforest TP\",\"iforest FP\", \"iforest TN\", \"iforest FN\"\n",
    "    ,\"SVM TP\",\"SVM FP\", \"SVM TN\", \"SVM FN\"],\n",
    "    parents = [\"\"\n",
    "    ,\"\"\n",
    "    ,\"\"\n",
    "    ,\"\"\n",
    "    ,\"Total Systematic WE\",\"Total Systematic WE\"\n",
    "    ,\"Total Systematic Nelson\",\"Total Systematic Nelson\"\n",
    "    ,\"Total Systematic iforest\",\"Total Systematic iforest\"\n",
    "    ,\"Total Systematic SVM\",\"Total Systematic SVM\"\n",
    "    ,\"Total P WE\",\"Total P WE\",\"Total N WE\",\"Total N WE\"\n",
    "    ,\"Total P Nelson\",\"Total P Nelson\",\"Total N Nelson\",\"Total N Nelson\"\n",
    "    ,\"Total P iforest\",\"Total P iforest\",\"Total N iforest\",\"Total N iforest\"\n",
    "    ,\"Total P SVM\",\"Total P SVM\",\"Total N SVM\",\"Total N SVM\"],\n",
    "    root_color=\"lightgrey\",\n",
    "    values=[np.sum(cm_perfect_normal)\n",
    "    ,np.sum(cm_perfect_normal)\n",
    "    ,np.sum(cm_perfect_normal)\n",
    "    ,np.sum(cm_perfect_normal)\n",
    "    ,cm_perfect_Systematic[1,1], cm_perfect_Systematic[0,0]\n",
    "    ,cm_perfect_Systematic[1,1], cm_perfect_Systematic[0,0]\n",
    "    ,cm_perfect_Systematic[1,1], cm_perfect_Systematic[0,0]\n",
    "    ,cm_perfect_Systematic[1,1], cm_perfect_Systematic[0,0]\n",
    "    ,cm_Systematic[0][1,1], cm_Systematic[0][1,0], cm_Systematic[0][0,0], cm_Systematic[0][0,1]\n",
    "    ,cm_Systematic[1][1,1], cm_Systematic[1][1,0], cm_Systematic[1][0,0], cm_Systematic[1][0,1]\n",
    "    ,cm_Systematic[2][1,1], cm_Systematic[2][1,0], cm_Systematic[2][0,0], cm_Systematic[2][0,1]\n",
    "    ,cm_Systematic[3][1,1], cm_Systematic[3][1,0], cm_Systematic[3][0,0], cm_Systematic[3][0,1]],\n",
    "    textinfo = \"label+value+percent parent\",\n",
    "    branchvalues='total'\n",
    "))\n",
    "\n",
    "fig2.update_layout(margin = dict(t=25, l=25, r=25, b=25))\n",
    "fig2.show()"
   ]
  },
  {
   "cell_type": "code",
   "execution_count": null,
   "metadata": {},
   "outputs": [],
   "source": [
    "SVM_tuning = joblib.load('ML_Models/ML_SVM_tuning.pkl')\n",
    "iforest_tuning = joblib.load('ML_Models/ML_iforest_tuning.pkl')"
   ]
  },
  {
   "cell_type": "code",
   "execution_count": null,
   "metadata": {},
   "outputs": [],
   "source": [
    "fig = go.Figure()\n",
    "fig.add_trace(go.Bar(x=np.arange(1,11), y=iforest_tuning.cv_results_['mean_test_F1'], text=np.round(iforest_tuning.cv_results_['mean_test_F1'],3)))\n",
    "fig.update_layout(title='Mean F1-Score of the Different Cross-validation Tests for Each Combination of Hyperparameters',\n",
    "                   yaxis_title='F1-Score',\n",
    "                   xaxis=dict(\n",
    "                    title='Combination Number',\n",
    "                    tickmode='linear'))\n",
    "fig.update_yaxes(range=[0.6, 0.99])\n",
    "\n",
    "\n",
    "fig.show()"
   ]
  },
  {
   "cell_type": "code",
   "execution_count": null,
   "metadata": {},
   "outputs": [],
   "source": [
    "fig = go.Figure()\n",
    "fig.add_trace(go.Bar(x=np.arange(1,11), y=iforest_tuning.cv_results_['std_test_F1'], text=np.round(iforest_tuning.cv_results_['std_test_F1'],3)))\n",
    "fig.update_layout(title='Standard Deviation of the F1-Score of the Different Cross-validation Tests<br>for Each Combination of Hyperparameters',\n",
    "                   yaxis_title='Standard Deviation',\n",
    "                   xaxis=dict(\n",
    "                    title='Combination Number',\n",
    "                    tickmode='linear'))\n",
    "fig.update_yaxes(range=[0, 0.006])\n",
    "\n",
    "\n",
    "fig.show()"
   ]
  },
  {
   "cell_type": "code",
   "execution_count": null,
   "metadata": {},
   "outputs": [],
   "source": [
    "fig = go.Figure()\n",
    "fig.add_trace(go.Bar(x=np.arange(1,11), y=iforest_tuning.cv_results_['mean_test_F1'], text=np.round(iforest_tuning.cv_results_['mean_test_F1'],3)))\n",
    "fig.update_layout(title='Mean F1-Score of the Different Cross-validation Tests for Each Combination of Hyperparameters',\n",
    "                   yaxis_title='F1-Score',\n",
    "                   xaxis=dict(\n",
    "                    title='Combination Number',\n",
    "                    tickmode='linear'))\n",
    "fig.update_yaxes(range=[0.6, 0.99])\n",
    "\n",
    "\n",
    "fig.show()"
   ]
  },
  {
   "cell_type": "code",
   "execution_count": null,
   "metadata": {},
   "outputs": [],
   "source": [
    "fig = go.Figure()\n",
    "fig.add_trace(go.Bar(x=np.arange(1,43), y=SVM_tuning.cv_results_['mean_test_score'][0:42], text=np.round(SVM_tuning.cv_results_['mean_test_score'][0:42],3),\n",
    "marker_color= 'blue'))\n",
    "fig.update_layout(title='Mean F1-Score of the Different Cross-validation Tests for Each Combination of Hyperparameters<br>Iternation 1',\n",
    "                   yaxis_title='F1-Score',\n",
    "                   xaxis=dict(\n",
    "                    title='Combination Number',\n",
    "                    tickmode='linear'))\n",
    "fig.update_yaxes(range=[0, 0.99])\n",
    "\n",
    "\n",
    "fig.show()"
   ]
  },
  {
   "cell_type": "code",
   "execution_count": null,
   "metadata": {},
   "outputs": [],
   "source": [
    "fig = go.Figure()\n",
    "fig.add_trace(go.Bar(x=['11','40','33','39','15','36','18','31','26','32','38','25','22','29'], y=SVM_tuning.cv_results_['mean_test_score'][42:56], text=np.round(SVM_tuning.cv_results_['mean_test_score'][42:56],3),\n",
    "marker_color='red'))\n",
    "fig.update_layout(title='Mean F1-Score of the Different Cross-validation Tests for Each Combination of Hyperparameters<br>Iternation 2',\n",
    "                   yaxis_title='F1-Score',\n",
    "                   xaxis=dict(\n",
    "                    title='Combination Number',\n",
    "                    tickmode='linear'))\n",
    "fig.update_yaxes(range=[0, 0.99])\n",
    "\n",
    "\n",
    "fig.show()"
   ]
  },
  {
   "cell_type": "code",
   "execution_count": null,
   "metadata": {},
   "outputs": [],
   "source": [
    "fig = go.Figure()\n",
    "fig.add_trace(go.Bar(x=['22','25','38','32','29'], y=SVM_tuning.cv_results_['mean_test_score'][56:61], text=np.round(SVM_tuning.cv_results_['mean_test_score'][56:61],3),\n",
    "marker_color='yellow'))\n",
    "fig.update_layout(title='Mean F1-Score of the Different Cross-validation Tests for Each Combination of Hyperparameters<br>Iternation 3',\n",
    "                   yaxis_title='F1-Score',\n",
    "                   xaxis=dict(\n",
    "                    title='Combination Number',\n",
    "                    tickmode='linear'))\n",
    "fig.update_yaxes(range=[0, 0.99])\n",
    "\n",
    "\n",
    "fig.show()\n"
   ]
  },
  {
   "cell_type": "code",
   "execution_count": null,
   "metadata": {},
   "outputs": [],
   "source": [
    "fig = go.Figure()\n",
    "fig.add_trace(go.Bar(x=['29','32'], y=SVM_tuning.cv_results_['mean_test_score'][61:63], text=np.round(SVM_tuning.cv_results_['mean_test_score'][61:63],3),\n",
    "marker_color='green'))\n",
    "fig.update_layout(title='Mean F1-Score of the Different Cross-validation Tests for Each Combination of Hyperparameters<br>Iternation 4',\n",
    "                   yaxis_title='F1-Score',\n",
    "                   xaxis=dict(\n",
    "                    title='Combination Number',\n",
    "                    tickmode='linear'))\n",
    "fig.update_yaxes(range=[0, 0.99])\n",
    "\n",
    "\n",
    "fig.show()"
   ]
  }
 ],
 "metadata": {
  "interpreter": {
   "hash": "155419e57043e3c6c91350c5428c6cc33fefa50a0d623da8550d7adba7f4f47b"
  },
  "kernelspec": {
   "display_name": "Python 3.9.12 ('base')",
   "language": "python",
   "name": "python3"
  },
  "language_info": {
   "codemirror_mode": {
    "name": "ipython",
    "version": 3
   },
   "file_extension": ".py",
   "mimetype": "text/x-python",
   "name": "python",
   "nbconvert_exporter": "python",
   "pygments_lexer": "ipython3",
   "version": "3.9.12"
  },
  "orig_nbformat": 4
 },
 "nbformat": 4,
 "nbformat_minor": 2
}
