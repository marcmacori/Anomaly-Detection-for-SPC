{
 "cells": [
  {
   "cell_type": "code",
   "execution_count": 1,
   "metadata": {},
   "outputs": [],
   "source": [
    "# Synthetic Data Creator in Python\n",
    "import numpy as np\n",
    "import pandas as pd "
   ]
  },
  {
   "cell_type": "code",
   "execution_count": 11,
   "metadata": {},
   "outputs": [],
   "source": [
    "normal= [\"Normal\" for x in range(40)]\n",
    "cyclic= [\"Cyclic\" for x in range(40)]\n",
    "systematic= [\"Systematic\" for x in range(40)]\n",
    "stratified= [\"Stratified\" for x in range(40)]\n",
    "ut= [\"UT\" for x in range(40)]\n",
    "dt= [\"DT\" for x in range(40)]\n",
    "us= [\"US\" for x in range(40)]\n",
    "ds= [\"DS\" for x in range(40)]\n",
    "DS1_Aux=np.concatenate((normal, cyclic, systematic, stratified, ut, dt, us, ds))\n",
    "DS1_Aux=np.concatenate((DS1_Aux,DS1_Aux,DS1_Aux,DS1_Aux,DS1_Aux))\n",
    "DS1_Aux=pd.DataFrame(DS1_Aux)\n",
    "DS1_Aux.to_csv('TimeSeries1_Aux.csv')"
   ]
  },
  {
   "cell_type": "code",
   "execution_count": 12,
   "metadata": {},
   "outputs": [],
   "source": [
    "normal= [\"Normal\" for x in range(1640)]\n",
    "cyclic= [\"Cyclic\" for x in range(1640)]\n",
    "systematic= [\"Systematic\" for x in range(1640)]\n",
    "stratified= [\"Stratified\" for x in range(1640)]\n",
    "ut= [\"UT\" for x in range(1640)]\n",
    "dt= [\"DT\" for x in range(1640)]\n",
    "us= [\"US\" for x in range(1640)]\n",
    "ds= [\"DS\" for x in range(1640)]\n",
    "DS1_Aux=np.concatenate((normal, cyclic, systematic, stratified, ut, dt, us, ds))\n",
    "DS1_Aux=np.concatenate((DS1_Aux,DS1_Aux,DS1_Aux,DS1_Aux,DS1_Aux))\n",
    "DS1_Aux=pd.DataFrame(DS1_Aux)\n",
    "DS1_Aux.to_csv('OrignialSeriesPattern.csv')"
   ]
  }
 ],
 "metadata": {
  "kernelspec": {
   "display_name": "Python 3.9.12 ('base')",
   "language": "python",
   "name": "python3"
  },
  "language_info": {
   "codemirror_mode": {
    "name": "ipython",
    "version": 3
   },
   "file_extension": ".py",
   "mimetype": "text/x-python",
   "name": "python",
   "nbconvert_exporter": "python",
   "pygments_lexer": "ipython3",
   "version": "3.9.12"
  },
  "orig_nbformat": 4,
  "vscode": {
   "interpreter": {
    "hash": "155419e57043e3c6c91350c5428c6cc33fefa50a0d623da8550d7adba7f4f47b"
   }
  }
 },
 "nbformat": 4,
 "nbformat_minor": 2
}
